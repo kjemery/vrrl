{
 "cells": [
  {
   "cell_type": "markdown",
   "metadata": {},
   "source": [
    "## PART I\n",
    "A workflow for inference on the presence of a target object using an MRF. We designed a toy problem to validate whether target object inference matched our intuitions based on simulated co-occurrence statistics. We intend to compare the output of an exact inference algorithm to the manual calcuation of energy. "
   ]
  },
  {
   "cell_type": "code",
   "execution_count": 1,
   "metadata": {},
   "outputs": [
    {
     "name": "stderr",
     "output_type": "stream",
     "text": [
      "c:\\Users\\karae\\anaconda3\\envs\\vrrl\\lib\\site-packages\\tqdm\\auto.py:22: TqdmWarning: IProgress not found. Please update jupyter and ipywidgets. See https://ipywidgets.readthedocs.io/en/stable/user_install.html\n",
      "  from .autonotebook import tqdm as notebook_tqdm\n"
     ]
    }
   ],
   "source": [
    "import numpy as np\n",
    "import pandas as pd\n",
    "import matplotlib.pyplot as plt\n",
    "import plotly.express as px\n",
    "import seaborn as sns\n",
    "from pgmpy.models import MarkovNetwork\n",
    "from pgmpy.factors.discrete import DiscreteFactor\n",
    "from pgmpy.inference import VariableElimination, BeliefPropagation, ApproxInference\n",
    "from pgmpy.sampling import GibbsSampling\n",
    "import daft\n",
    "import random\n",
    "import itertools"
   ]
  },
  {
   "cell_type": "code",
   "execution_count": 2,
   "metadata": {},
   "outputs": [
    {
     "name": "stdout",
     "output_type": "stream",
     "text": [
      "[[0.  0.5 1.  0.2]\n",
      " [0.5 0.  0.2 0.1]\n",
      " [1.  0.2 0.  1. ]\n",
      " [0.2 0.1 1.  0. ]]\n"
     ]
    },
    {
     "data": {
      "image/png": "[encoded data removed]",
      "text/plain": [
       "<Figure size 640x480 with 2 Axes>"
      ]
     },
     "metadata": {},
     "output_type": "display_data"
    }
   ],
   "source": [
    "objects = [\"cup\",\"saucer\",\"table\",\"floor\"]\n",
    "\n",
    "# counts\n",
    "cooccur = np.array([[0,5,10,2],\n",
    "                    [5,0,2,1],\n",
    "                    [10,2,0,10],\n",
    "                    [2,1,10,0]])\n",
    "\n",
    "cooccur = cooccur/np.max(cooccur)\n",
    "\n",
    "print(cooccur)\n",
    "sns.heatmap(cooccur,xticklabels=objects,yticklabels=objects,cmap='crest')\n",
    "\n",
    "#np.fill_diagonal(cooccur,0)\n",
    "cooccur = pd.DataFrame(cooccur,index=objects,columns=objects)\n"
   ]
  },
  {
   "cell_type": "code",
   "execution_count": 3,
   "metadata": {},
   "outputs": [],
   "source": [
    "# instantiate network\n",
    "G = MarkovNetwork()\n",
    "\n",
    "# create graph (add nodes and edges)\n",
    "nodes = objects\n",
    "edges = list(itertools.combinations(objects,r=2))\n",
    "\n",
    "G.add_nodes_from(nodes)\n",
    "G.add_edges_from(edges)"
   ]
  },
  {
   "cell_type": "code",
   "execution_count": 4,
   "metadata": {},
   "outputs": [
    {
     "data": {
      "text/plain": [
       "<Axes:>"
      ]
     },
     "execution_count": 4,
     "metadata": {},
     "output_type": "execute_result"
    },
    {
     "data": {
      "image/png": "[encoded data removed]",
      "text/plain": [
       "<Figure size 336.614x271.654 with 1 Axes>"
      ]
     },
     "metadata": {},
     "output_type": "display_data"
    }
   ],
   "source": [
    "# illustrate graph\n",
    "pgm = daft.PGM(aspect=2.1, dpi=150, node_unit=1, grid_unit=3, directed=False, node_ec=None)\n",
    "\n",
    "x = [0, 1, 0, 1]\n",
    "y = [1, 1, 0, 0]\n",
    "\n",
    "for i in range(len(nodes)):\n",
    "    pgm.add_node(nodes[i], nodes[i], x[i], y[i])\n",
    "    \n",
    "for i in range(len(edges)):    \n",
    "    pgm.add_edge(edges[i][0],edges[i][1])\n",
    "    \n",
    "pgm.render()"
   ]
  },
  {
   "cell_type": "code",
   "execution_count": 5,
   "metadata": {},
   "outputs": [],
   "source": [
    "# phi based on Kollar & Roy 2009\n",
    "def compatibility(edge,cooccur):\n",
    "    \n",
    "    tt = cooccur.loc[edge[0],edge[1]] / np.sum(cooccur.loc[edge[0],:])\n",
    "    ft = (np.sum(cooccur.loc[:,edge[1]])-cooccur.loc[edge[0],edge[1]]) / (np.sum(np.triu(np.asarray(cooccur)))-np.sum(cooccur.loc[edge[0],:]))\n",
    "    tf = 1 - tt\n",
    "    ff = 1 - ft\n",
    "\n",
    "    phi = np.reshape([ff, ft, tf, tt],(2,2))\n",
    "    \n",
    "    return phi"
   ]
  },
  {
   "cell_type": "code",
   "execution_count": 6,
   "metadata": {},
   "outputs": [],
   "source": [
    "# create factors\n",
    "for e in G.edges():\n",
    "    factor = DiscreteFactor(e, [2, 2], compatibility(e,cooccur))\n",
    "    G.add_factors(factor)"
   ]
  },
  {
   "cell_type": "code",
   "execution_count": 7,
   "metadata": {},
   "outputs": [],
   "source": [
    "def mrf_approx_infer(nodes, cooccur, evidence={}, iterations=1000):\n",
    "\n",
    "    # total energy calculation\n",
    "    E = np.zeros(iterations)\n",
    "\n",
    "    # pregenerate states\n",
    "    S = pd.DataFrame(np.random.randint(low = 0, high = 2, size = (iterations,len(nodes))),columns = nodes)\n",
    "\n",
    "    if (len(evidence) > 0):\n",
    "        for idx, key in enumerate(list(evidence.items())):\n",
    "            S[key[0]] = key[1]\n",
    "\n",
    "    # start iterations loop\n",
    "    for i in range(iterations):\n",
    "        \n",
    "        state = S.iloc[i]\n",
    "        energy = []\n",
    "        edges = list(itertools.combinations(nodes,r=2))\n",
    "\n",
    "        for e in range(len(edges)):\n",
    "        \n",
    "            psi = compatibility(edges[e],cooccur)[state[edges[e][0]],state[edges[e][1]]]\n",
    "            energy.append(psi)\n",
    "\n",
    "        E[i] = np.sum(np.log(energy))\n",
    "\n",
    "    return S.iloc[np.argmax(E)] # print state with maximum energy \n"
   ]
  },
  {
   "cell_type": "code",
   "execution_count": 8,
   "metadata": {},
   "outputs": [],
   "source": [
    "def mrf_exact_infer(nodes, evidence={}, iterations=1000):\n",
    "\n",
    "    G_infer = BeliefPropagation(G)\n",
    "    node_states = pd.DataFrame(np.zeros((1,len(nodes))),index=['state'],columns=nodes)\n",
    "    \n",
    "    for i in range(len(list(evidence.keys()))):\n",
    "        node_states[list(evidence.keys())[i]] = list(evidence.values())[i]\n",
    "        nodes.remove(list(evidence.keys())[i])\n",
    "\n",
    "    for n in nodes:\n",
    "        G_prob = G_infer.query(variables=[n], evidence=evidence)\n",
    "        node_states[n] = np.argmax((G_prob.values))\n",
    "\n",
    "    return node_states.T"
   ]
  },
  {
   "cell_type": "code",
   "execution_count": 9,
   "metadata": {},
   "outputs": [
    {
     "data": {
      "text/html": [
       "<div>\n",
       "<style scoped>\n",
       "    .dataframe tbody tr th:only-of-type {\n",
       "        vertical-align: middle;\n",
       "    }\n",
       "\n",
       "    .dataframe tbody tr th {\n",
       "        vertical-align: top;\n",
       "    }\n",
       "\n",
       "    .dataframe thead th {\n",
       "        text-align: right;\n",
       "    }\n",
       "</style>\n",
       "<table border=\"1\" class=\"dataframe\">\n",
       "  <thead>\n",
       "    <tr style=\"text-align: right;\">\n",
       "      <th></th>\n",
       "      <th>state</th>\n",
       "    </tr>\n",
       "  </thead>\n",
       "  <tbody>\n",
       "    <tr>\n",
       "      <th>cup</th>\n",
       "      <td>1</td>\n",
       "    </tr>\n",
       "    <tr>\n",
       "      <th>saucer</th>\n",
       "      <td>1</td>\n",
       "    </tr>\n",
       "    <tr>\n",
       "      <th>table</th>\n",
       "      <td>0</td>\n",
       "    </tr>\n",
       "    <tr>\n",
       "      <th>floor</th>\n",
       "      <td>0</td>\n",
       "    </tr>\n",
       "  </tbody>\n",
       "</table>\n",
       "</div>"
      ],
      "text/plain": [
       "        state\n",
       "cup         1\n",
       "saucer      1\n",
       "table       0\n",
       "floor       0"
      ]
     },
     "execution_count": 9,
     "metadata": {},
     "output_type": "execute_result"
    }
   ],
   "source": [
    "# mrf exact inference with package\n",
    "nodes = objects.copy()\n",
    "evidence = {'saucer': 1}\n",
    "\n",
    "mrf_exact_infer(nodes,evidence)"
   ]
  },
  {
   "cell_type": "code",
   "execution_count": 10,
   "metadata": {},
   "outputs": [
    {
     "data": {
      "text/plain": [
       "cup       1\n",
       "saucer    1\n",
       "table     0\n",
       "floor     0\n",
       "Name: 0, dtype: int64"
      ]
     },
     "execution_count": 10,
     "metadata": {},
     "output_type": "execute_result"
    }
   ],
   "source": [
    "# mrf approximate inference custom\n",
    "nodes = objects.copy()\n",
    "evidence = {'saucer': 1}\n",
    "\n",
    "mrf_approx_infer(nodes,cooccur,evidence) "
   ]
  },
  {
   "attachments": {},
   "cell_type": "markdown",
   "metadata": {},
   "source": [
    "## PART II\n",
    " \n",
    "Below attempts the custom approximate inference algorithm on a larger (i.e., a more realistic number) set of objects to test how long it takes to run and to verify if it converges across a set of example states."
   ]
  },
  {
   "cell_type": "code",
   "execution_count": 22,
   "metadata": {},
   "outputs": [],
   "source": [
    "all_objs = pd.read_excel('post_objects.xlsx')\n",
    "full_objects = []\n",
    "n = 10\n",
    "\n",
    "for i in range(n):\n",
    "    full_objects.append(all_objs.iloc[i][0][6:])"
   ]
  },
  {
   "cell_type": "code",
   "execution_count": 31,
   "metadata": {},
   "outputs": [
    {
     "data": {
      "text/plain": [
       "<AxesSubplot:>"
      ]
     },
     "execution_count": 31,
     "metadata": {},
     "output_type": "execute_result"
    },
    {
     "data": {
      "image/png": "[encoded data removed]",
      "text/plain": [
       "<Figure size 640x480 with 2 Axes>"
      ]
     },
     "metadata": {},
     "output_type": "display_data"
    }
   ],
   "source": [
    "# counts\n",
    "cooccur = np.random.randint(low=1,high=21,size=(len(full_objects),len(full_objects)))\n",
    "np.fill_diagonal(cooccur,0)\n",
    "cooccur = np.tril(cooccur/np.max(cooccur))\n",
    "cooccur = pd.DataFrame(np.maximum(cooccur, cooccur.transpose()),index=full_objects,columns=full_objects)\n",
    "\n",
    "sns.heatmap(cooccur,cmap='crest')"
   ]
  },
  {
   "cell_type": "code",
   "execution_count": 24,
   "metadata": {},
   "outputs": [],
   "source": [
    "# instantiate network\n",
    "G = MarkovNetwork()\n",
    "\n",
    "# create graph (add nodes and edges)\n",
    "nodes = full_objects.copy()\n",
    "edges = list(itertools.combinations(full_objects,r=2))\n",
    "\n",
    "G.add_nodes_from(nodes)\n",
    "G.add_edges_from(edges)"
   ]
  },
  {
   "cell_type": "code",
   "execution_count": 25,
   "metadata": {},
   "outputs": [],
   "source": [
    "# create factors\n",
    "for e in G.edges():\n",
    "    factor = DiscreteFactor(e, [2, 2], compatibility(e,cooccur))\n",
    "    G.add_factors(factor)"
   ]
  },
  {
   "cell_type": "code",
   "execution_count": 28,
   "metadata": {},
   "outputs": [
    {
     "data": {
      "text/html": [
       "<div>\n",
       "<style scoped>\n",
       "    .dataframe tbody tr th:only-of-type {\n",
       "        vertical-align: middle;\n",
       "    }\n",
       "\n",
       "    .dataframe tbody tr th {\n",
       "        vertical-align: top;\n",
       "    }\n",
       "\n",
       "    .dataframe thead th {\n",
       "        text-align: right;\n",
       "    }\n",
       "</style>\n",
       "<table border=\"1\" class=\"dataframe\">\n",
       "  <thead>\n",
       "    <tr style=\"text-align: right;\">\n",
       "      <th></th>\n",
       "      <th>state</th>\n",
       "    </tr>\n",
       "  </thead>\n",
       "  <tbody>\n",
       "    <tr>\n",
       "      <th>baking_oven</th>\n",
       "      <td>1</td>\n",
       "    </tr>\n",
       "    <tr>\n",
       "      <th>bar_stool</th>\n",
       "      <td>0</td>\n",
       "    </tr>\n",
       "    <tr>\n",
       "      <th>basket</th>\n",
       "      <td>0</td>\n",
       "    </tr>\n",
       "    <tr>\n",
       "      <th>blender</th>\n",
       "      <td>0</td>\n",
       "    </tr>\n",
       "    <tr>\n",
       "      <th>bread_maker</th>\n",
       "      <td>0</td>\n",
       "    </tr>\n",
       "    <tr>\n",
       "      <th>cabinets</th>\n",
       "      <td>0</td>\n",
       "    </tr>\n",
       "    <tr>\n",
       "      <th>can</th>\n",
       "      <td>0</td>\n",
       "    </tr>\n",
       "    <tr>\n",
       "      <th>can_opener</th>\n",
       "      <td>0</td>\n",
       "    </tr>\n",
       "    <tr>\n",
       "      <th>candle</th>\n",
       "      <td>0</td>\n",
       "    </tr>\n",
       "    <tr>\n",
       "      <th>card_catalog</th>\n",
       "      <td>0</td>\n",
       "    </tr>\n",
       "  </tbody>\n",
       "</table>\n",
       "</div>"
      ],
      "text/plain": [
       "              state\n",
       "baking_oven       1\n",
       "bar_stool         0\n",
       "basket            0\n",
       "blender           0\n",
       "bread_maker       0\n",
       "cabinets          0\n",
       "can               0\n",
       "can_opener        0\n",
       "candle            0\n",
       "card_catalog      0"
      ]
     },
     "execution_count": 28,
     "metadata": {},
     "output_type": "execute_result"
    }
   ],
   "source": [
    "# mrf exact inference with package\n",
    "nodes = full_objects.copy()\n",
    "evidence = {'baking_oven': 1}\n",
    "\n",
    "mrf_exact_infer(nodes,evidence)"
   ]
  },
  {
   "cell_type": "code",
   "execution_count": 29,
   "metadata": {},
   "outputs": [
    {
     "data": {
      "text/plain": [
       "baking_oven     1\n",
       "bar_stool       0\n",
       "basket          0\n",
       "blender         0\n",
       "bread_maker     0\n",
       "cabinets        0\n",
       "can             0\n",
       "can_opener      0\n",
       "candle          0\n",
       "card_catalog    0\n",
       "Name: 56, dtype: int64"
      ]
     },
     "execution_count": 29,
     "metadata": {},
     "output_type": "execute_result"
    }
   ],
   "source": [
    "# mrf approximate inference custom\n",
    "nodes = full_objects.copy()\n",
    "evidence = {'baking_oven': 1}\n",
    "\n",
    "mrf_approx_infer(nodes,cooccur,evidence) "
   ]
  },
  {
   "cell_type": "code",
   "execution_count": 140,
   "metadata": {},
   "outputs": [],
   "source": [
    "# MRF APPROXIMATE INFERENCE TEST PERFORMANCE\n",
    "\n",
    "# list of nodes\n",
    "nodes = full_objects.copy()\n",
    "instances = 100\n",
    "\n",
    "# data storage\n",
    "state_exact = np.zeros((instances,len(nodes)))\n",
    "state_approx = np.zeros((instances,len(nodes)))\n",
    "\n",
    "for i in range(instances):\n",
    "    \n",
    "    # create random evidence for inference\n",
    "    nodes = full_objects.copy()\n",
    "    evidence = {key: np.random.randint(low=0,high=2,size=1)[0] for key in random.sample(nodes,np.random.randint(low=0,high=len(nodes)+1))}\n",
    "    \n",
    "    state_exact[i,:] = np.asarray((mrf_exact_infer(nodes,evidence)).T)\n",
    "    state_approx[i,:] = np.asarray((mrf_approx_infer(nodes,cooccur,evidence,iterations=10000).T)) "
   ]
  },
  {
   "cell_type": "code",
   "execution_count": 149,
   "metadata": {},
   "outputs": [],
   "source": [
    "err = 0\n",
    "\n",
    "for i in range(instances):\n",
    "    \n",
    "    err += np.sum(state_exact[i,:] - state_approx[i,:])"
   ]
  }
 ],
 "metadata": {
  "kernelspec": {
   "display_name": "vrrl",
   "language": "python",
   "name": "python3"
  },
  "language_info": {
   "codemirror_mode": {
    "name": "ipython",
    "version": 3
   },
   "file_extension": ".py",
   "mimetype": "text/x-python",
   "name": "python",
   "nbconvert_exporter": "python",
   "pygments_lexer": "ipython3",
   "version": "3.8.13"
  },
  "orig_nbformat": 4,
  "vscode": {
   "interpreter": {
    "hash": "76fdbddd09d3bad11064401bc03600f9f122308b58fefb7c6c6208e871930f97"
   }
  }
 },
 "nbformat": 4,
 "nbformat_minor": 2
}

{
 "cells": [
  {
   "cell_type": "markdown",
   "metadata": {},
   "source": [
    "## PART I\n",
    "A workflow for inference on the presence of a target object using an MRF. We designed a toy problem to validate whether target object inference matched our intuitions based on simulated co-occurrence statistics. We intend to compare the output of an exact inference algorithm to the manual calcuation of energy. "
   ]
  },
  {
   "cell_type": "code",
   "execution_count": 1,
   "metadata": {},
   "outputs": [
    {
     "name": "stderr",
     "output_type": "stream",
     "text": [
      "c:\\Users\\karae\\anaconda3\\envs\\vrrl\\lib\\site-packages\\tqdm\\auto.py:22: TqdmWarning: IProgress not found. Please update jupyter and ipywidgets. See https://ipywidgets.readthedocs.io/en/stable/user_install.html\n",
      "  from .autonotebook import tqdm as notebook_tqdm\n"
     ]
    }
   ],
   "source": [
    "import numpy as np\n",
    "import pandas as pd\n",
    "import matplotlib.pyplot as plt\n",
    "import plotly.express as px\n",
    "import seaborn as sns\n",
    "from pgmpy.models import MarkovNetwork\n",
    "from pgmpy.factors.discrete import DiscreteFactor\n",
    "from pgmpy.inference import VariableElimination, BeliefPropagation, ApproxInference\n",
    "from pgmpy.sampling import GibbsSampling\n",
    "import daft\n",
    "import random\n",
    "import itertools"
   ]
  },
  {
   "cell_type": "code",
   "execution_count": 623,
   "metadata": {},
   "outputs": [
    {
     "name": "stdout",
     "output_type": "stream",
     "text": [
      "[[0.  0.5 1.  0.2]\n",
      " [0.5 0.  0.2 0.1]\n",
      " [1.  0.2 0.  1. ]\n",
      " [0.2 0.1 1.  0. ]]\n"
     ]
    },
    {
     "data": {
      "image/png": "[encoded data removed]",
      "text/plain": [
       "<Figure size 640x480 with 2 Axes>"
      ]
     },
     "metadata": {},
     "output_type": "display_data"
    }
   ],
   "source": [
    "objects = [\"cup\",\"saucer\",\"table\",\"floor\"]\n",
    "\n",
    "# counts\n",
    "cooccur = np.array([[0,5,10,2],\n",
    "                    [5,0,2,1],\n",
    "                    [10,2,0,10],\n",
    "                    [2,1,10,0]])\n",
    "\n",
    "cooccur = cooccur/np.max(cooccur)\n",
    "\n",
    "print(cooccur)\n",
    "sns.heatmap(cooccur,xticklabels=objects,yticklabels=objects,cmap='crest')\n",
    "\n",
    "#np.fill_diagonal(cooccur,0)\n",
    "cooccur = pd.DataFrame(cooccur,index=objects,columns=objects)\n"
   ]
  },
  {
   "cell_type": "code",
   "execution_count": 624,
   "metadata": {},
   "outputs": [],
   "source": [
    "# instantiate network\n",
    "G = MarkovNetwork()\n",
    "\n",
    "# create graph (add nodes and edges)\n",
    "nodes = objects\n",
    "edges = list(itertools.combinations(objects,r=2))\n",
    "\n",
    "G.add_nodes_from(nodes)\n",
    "G.add_edges_from(edges)"
   ]
  },
  {
   "cell_type": "code",
   "execution_count": 625,
   "metadata": {},
   "outputs": [
    {
     "data": {
      "text/plain": [
       "<Axes:>"
      ]
     },
     "execution_count": 625,
     "metadata": {},
     "output_type": "execute_result"
    },
    {
     "data": {
      "image/png": "[encoded data removed]",
      "text/plain": [
       "<Figure size 336.614x271.654 with 1 Axes>"
      ]
     },
     "metadata": {},
     "output_type": "display_data"
    }
   ],
   "source": [
    "# illustrate graph\n",
    "pgm = daft.PGM(aspect=2.1, dpi=150, node_unit=1, grid_unit=3, directed=False, node_ec=None)\n",
    "\n",
    "x = [0, 1, 0, 1]\n",
    "y = [1, 1, 0, 0]\n",
    "\n",
    "for i in range(len(nodes)):\n",
    "    pgm.add_node(nodes[i], nodes[i], x[i], y[i])\n",
    "    \n",
    "for i in range(len(edges)):    \n",
    "    pgm.add_edge(edges[i][0],edges[i][1])\n",
    "    \n",
    "pgm.render()"
   ]
  },
  {
   "cell_type": "code",
   "execution_count": 626,
   "metadata": {},
   "outputs": [],
   "source": [
    "# phi based on Kollar & Roy 2009\n",
    "def compatibility(edge,cooccur):\n",
    "    \n",
    "    tt = cooccur.loc[edge[0],edge[1]] / np.sum(cooccur.loc[edge[0],:])\n",
    "    ft = (np.sum(cooccur.loc[:,edge[1]])-cooccur.loc[edge[0],edge[1]]) / (np.sum(np.triu(np.asarray(cooccur)))-np.sum(cooccur.loc[edge[0],:]))\n",
    "    tf = 1 - tt\n",
    "    ff = 1 - ft\n",
    "\n",
    "    phi = np.reshape([ff, ft, tf, tt],(2,2))\n",
    "    \n",
    "    return phi"
   ]
  },
  {
   "cell_type": "code",
   "execution_count": 517,
   "metadata": {},
   "outputs": [],
   "source": [
    "# create factors\n",
    "for e in G.edges():\n",
    "    factor = DiscreteFactor(e, [2, 2], compatibility(e,cooccur))\n",
    "    G.add_factors(factor)"
   ]
  },
  {
   "cell_type": "code",
   "execution_count": 618,
   "metadata": {},
   "outputs": [],
   "source": [
    "def mrf_approx_infer(nodes, cooccur, evidence={}, iterations=1000):\n",
    "\n",
    "    # total energy calculation\n",
    "    E = np.zeros(iterations)\n",
    "\n",
    "    # pregenerate states\n",
    "    S = pd.DataFrame(np.random.randint(low = 0, high = 2, size = (iterations,len(nodes))),columns = nodes)\n",
    "\n",
    "    if (len(evidence) > 0):\n",
    "        for idx, key in enumerate(list(evidence.items())):\n",
    "            S[key[0]] = key[1]\n",
    "\n",
    "    # start iterations loop\n",
    "    for i in range(iterations):\n",
    "        \n",
    "        state = S.iloc[i]\n",
    "        energy = []\n",
    "        edges = list(itertools.combinations(nodes,r=2))\n",
    "\n",
    "        for e in range(len(edges)):\n",
    "        \n",
    "            psi = compatibility(edges[e],cooccur)[state[edges[e][0]],state[edges[e][1]]]\n",
    "            energy.append(psi)\n",
    "\n",
    "        E[i] = np.sum(np.log(energy))\n",
    "\n",
    "    return S.iloc[np.argmax(E)] # print state with maximum energy \n"
   ]
  },
  {
   "cell_type": "code",
   "execution_count": 519,
   "metadata": {},
   "outputs": [],
   "source": [
    "def mrf_exact_infer(nodes, evidence={}, iterations=1000):\n",
    "\n",
    "    G_infer = BeliefPropagation(G)\n",
    "    node_states = pd.DataFrame(np.zeros((1,len(nodes))),index=['state'],columns=nodes)\n",
    "    \n",
    "    for i in range(len(list(evidence.keys()))):\n",
    "        node_states[list(evidence.keys())[i]] = list(evidence.values())[i]\n",
    "        nodes.remove(list(evidence.keys())[i])\n",
    "\n",
    "    for n in nodes:\n",
    "        G_prob = G_infer.query(variables=[n], evidence=evidence)\n",
    "        node_states[n] = np.argmax((G_prob.values))\n",
    "\n",
    "    return print(node_states.T)"
   ]
  },
  {
   "cell_type": "code",
   "execution_count": 520,
   "metadata": {},
   "outputs": [
    {
     "name": "stdout",
     "output_type": "stream",
     "text": [
      "        state\n",
      "cup         1\n",
      "saucer      1\n",
      "table       0\n",
      "floor       0\n"
     ]
    }
   ],
   "source": [
    "# mrf exact inference with package\n",
    "nodes = objects.copy()\n",
    "evidence = {'saucer': 1}\n",
    "\n",
    "mrf_exact_infer(nodes,evidence)"
   ]
  },
  {
   "cell_type": "code",
   "execution_count": 521,
   "metadata": {},
   "outputs": [
    {
     "data": {
      "text/plain": [
       "cup       1\n",
       "saucer    1\n",
       "table     0\n",
       "floor     0\n",
       "Name: 4, dtype: int64"
      ]
     },
     "execution_count": 521,
     "metadata": {},
     "output_type": "execute_result"
    }
   ],
   "source": [
    "# mrf approximate inference custom\n",
    "nodes = objects.copy()\n",
    "evidence = {'saucer': 1}\n",
    "\n",
    "mrf_approx_infer(nodes,cooccur,evidence) "
   ]
  },
  {
   "cell_type": "markdown",
   "metadata": {},
   "source": [
    "## PART II\n",
    " \n",
    "Below attempts another toy problem with additional objects to verify custom algorithm."
   ]
  },
  {
   "cell_type": "code",
   "execution_count": 612,
   "metadata": {},
   "outputs": [],
   "source": [
    "all_objs = pd.read_excel('post_objects.xlsx')\n",
    "full_objects = []\n",
    "n = 15\n",
    "\n",
    "for i in range(n):\n",
    "    full_objects.append(all_objs.iloc[i][0][6:])"
   ]
  },
  {
   "cell_type": "code",
   "execution_count": 613,
   "metadata": {},
   "outputs": [
    {
     "data": {
      "text/plain": [
       "<AxesSubplot:>"
      ]
     },
     "execution_count": 613,
     "metadata": {},
     "output_type": "execute_result"
    },
    {
     "data": {
      "image/png": "[encoded data removed]",
      "text/plain": [
       "<Figure size 640x480 with 2 Axes>"
      ]
     },
     "metadata": {},
     "output_type": "display_data"
    }
   ],
   "source": [
    "# counts\n",
    "cooccur = np.random.randint(low=1,high=21,size=(len(full_objects),len(full_objects)))\n",
    "np.fill_diagonal(cooccur,0)\n",
    "cooccur = cooccur/np.max(cooccur)\n",
    "cooccur = np.tril(cooccur)\n",
    "cooccur = np.maximum(cooccur, cooccur.transpose())\n",
    "cooccur = pd.DataFrame(cooccur,index=full_objects,columns=full_objects)\n",
    "\n",
    "sns.heatmap(cooccur,cmap='crest')"
   ]
  },
  {
   "cell_type": "code",
   "execution_count": 614,
   "metadata": {},
   "outputs": [],
   "source": [
    "# instantiate network\n",
    "G = MarkovNetwork()\n",
    "\n",
    "# create graph (add nodes and edges)\n",
    "nodes = full_objects.copy()\n",
    "edges = list(itertools.combinations(full_objects,r=2))\n",
    "\n",
    "G.add_nodes_from(nodes)\n",
    "G.add_edges_from(edges)"
   ]
  },
  {
   "cell_type": "code",
   "execution_count": 615,
   "metadata": {},
   "outputs": [],
   "source": [
    "# create factors\n",
    "for e in G.edges():\n",
    "    factor = DiscreteFactor(e, [2, 2], compatibility(e,cooccur))\n",
    "    G.add_factors(factor)"
   ]
  },
  {
   "cell_type": "code",
   "execution_count": 616,
   "metadata": {},
   "outputs": [
    {
     "name": "stdout",
     "output_type": "stream",
     "text": [
      "              state\n",
      "baking_oven       0\n",
      "bar_stool         0\n",
      "basket            0\n",
      "blender           0\n",
      "bread_maker       0\n",
      "cabinets          0\n",
      "can               0\n",
      "can_opener        0\n",
      "candle            1\n",
      "card_catalog      0\n",
      "cereal_bowl       0\n",
      "chair             1\n",
      "cinnamon          0\n",
      "cloth             0\n",
      "coffee_maker      0\n"
     ]
    }
   ],
   "source": [
    "# mrf exact inference with package\n",
    "nodes = full_objects.copy()\n",
    "evidence = {'candle': 1, 'chair': 1}\n",
    "\n",
    "mrf_exact_infer(nodes,evidence)"
   ]
  },
  {
   "cell_type": "code",
   "execution_count": 620,
   "metadata": {},
   "outputs": [
    {
     "data": {
      "text/plain": [
       "baking_oven     0\n",
       "bar_stool       0\n",
       "basket          0\n",
       "blender         0\n",
       "bread_maker     0\n",
       "cabinets        0\n",
       "can             0\n",
       "can_opener      0\n",
       "candle          1\n",
       "card_catalog    0\n",
       "cereal_bowl     0\n",
       "chair           1\n",
       "cinnamon        0\n",
       "cloth           0\n",
       "coffee_maker    0\n",
       "Name: 712, dtype: int64"
      ]
     },
     "execution_count": 620,
     "metadata": {},
     "output_type": "execute_result"
    }
   ],
   "source": [
    "# mrf approximate inference custom\n",
    "nodes = full_objects.copy()\n",
    "evidence = {'candle': 1, 'chair': 1}\n",
    "iterations = 100000\n",
    "\n",
    "mrf_approx_infer(nodes,cooccur,evidence,iterations) "
   ]
  },
  {
   "cell_type": "code",
   "execution_count": 609,
   "metadata": {},
   "outputs": [],
   "source": [
    "nodes = full_objects.copy()\n",
    "evidence = {'candle': 1, 'chair': 1}\n",
    "node_states = pd.DataFrame(None,columns=['objects','states'])\n",
    "node_states['objects'] = nodes\n",
    "node_states['states'] = np.zeros((len(nodes),1))\n",
    "    \n",
    "for i in list(evidence.keys()):\n",
    "    node_states.loc[node_states['objects'] == i,'states'] = evidence[i]\n",
    "    nodes.remove(i)\n",
    "\n",
    "start_state = list(zip(node_states.objects, node_states.states))\n"
   ]
  },
  {
   "cell_type": "code",
   "execution_count": null,
   "metadata": {},
   "outputs": [],
   "source": [
    "gibbs = GibbsSampling(G)\n",
    "gen = gibbs.sample(start_state=start_state,size=100)"
   ]
  },
  {
   "cell_type": "code",
   "execution_count": 610,
   "metadata": {},
   "outputs": [
    {
     "data": {
      "text/plain": [
       "[('baking_oven', 0.0),\n",
       " ('bar_stool', 0.0),\n",
       " ('basket', 0.0),\n",
       " ('blender', 0.0),\n",
       " ('bread_maker', 0.0),\n",
       " ('cabinets', 0.0),\n",
       " ('can', 0.0),\n",
       " ('can_opener', 0.0),\n",
       " ('candle', 1.0),\n",
       " ('card_catalog', 0.0),\n",
       " ('cereal_bowl', 0.0),\n",
       " ('chair', 1.0),\n",
       " ('cinnamon', 0.0),\n",
       " ('cloth', 0.0),\n",
       " ('coffee_maker', 0.0)]"
      ]
     },
     "execution_count": 610,
     "metadata": {},
     "output_type": "execute_result"
    }
   ],
   "source": [
    "start_state"
   ]
  },
  {
   "cell_type": "markdown",
   "metadata": {},
   "source": [
    "## PART III\n",
    "Below attempts the custom approximate inference algorithm on a larger (i.e., a more realistic number) set of objects to test how long it takes to run."
   ]
  },
  {
   "cell_type": "code",
   "execution_count": 321,
   "metadata": {},
   "outputs": [],
   "source": [
    "all_objs = pd.read_excel('post_objects.xlsx')\n",
    "full_objects = []\n",
    "\n",
    "for i in range(len(all_objs)):\n",
    "    full_objects.append(all_objs.iloc[i][0][6:])"
   ]
  },
  {
   "cell_type": "code",
   "execution_count": 322,
   "metadata": {},
   "outputs": [],
   "source": [
    "# counts\n",
    "cooccur = np.random.randint(low=1,high=21,size=(len(full_objects),len(full_objects)))\n",
    "np.fill_diagonal(cooccur,0)\n",
    "cooccur = cooccur/np.max(cooccur)\n",
    "cooccur = pd.DataFrame(cooccur,index=full_objects,columns=full_objects)"
   ]
  },
  {
   "cell_type": "code",
   "execution_count": 301,
   "metadata": {},
   "outputs": [
    {
     "data": {
      "text/plain": [
       "(baking_oven       1\n",
       " bar_stool         1\n",
       " basket            1\n",
       " blender           1\n",
       " bread_maker       1\n",
       "                  ..\n",
       " trash_can         1\n",
       " tub               0\n",
       " vanity_case       0\n",
       " wash_cloth        1\n",
       " window_curtain    0\n",
       " Name: 7, Length: 97, dtype: int64,\n",
       " -8289.056137141104)"
      ]
     },
     "execution_count": 301,
     "metadata": {},
     "output_type": "execute_result"
    }
   ],
   "source": [
    "# mrf approximate inference custom\n",
    "iterations = 10\n",
    "nodes = full_objects.copy()\n",
    "evidence = {'baking_oven': 1}\n",
    "\n",
    "mrf_approx_infer(nodes,cooccur,evidence,iterations)"
   ]
  },
  {
   "cell_type": "markdown",
   "metadata": {},
   "source": [
    "## PART IV\n",
    "\n",
    "Try mrf2d package in R"
   ]
  },
  {
   "cell_type": "code",
   "execution_count": 2,
   "metadata": {},
   "outputs": [
    {
     "name": "stdout",
     "output_type": "stream",
     "text": [
      "['c:\\\\Users\\\\karae\\\\anaconda3\\\\envs\\\\vrrl\\\\lib\\\\site-packages\\\\rpy2']\n"
     ]
    }
   ],
   "source": [
    "import os\n",
    "os.environ['R_HOME'] = 'C:/Program Files/R/R-4.2.0'\n",
    "os.environ['R_USER'] = 'C:/Users/karae/anaconda3/envs/vrrl/lib/site-packages/rpy2'\n",
    "\n",
    "\n",
    "import rpy2\n",
    "print(rpy2.__path__)"
   ]
  },
  {
   "cell_type": "code",
   "execution_count": 3,
   "metadata": {},
   "outputs": [],
   "source": [
    "from rpy2.robjects.packages import importr"
   ]
  },
  {
   "cell_type": "code",
   "execution_count": 7,
   "metadata": {},
   "outputs": [
    {
     "name": "stderr",
     "output_type": "stream",
     "text": [
      "R[write to console]: Installing package into 'C:/Users/karae/AppData/Local/R/win-library/4.2'\n",
      "(as 'lib' is unspecified)\n",
      "\n",
      "R[write to console]: also installing the dependencies 'rbibutils', 'Rdpack', 'RcppArmadillo'\n",
      "\n",
      "\n",
      "R[write to console]: trying URL 'https://cloud.r-project.org/bin/windows/contrib/4.2/rbibutils_2.2.13.zip'\n",
      "\n",
      "R[write to console]: Content type 'application/zip'\n",
      "R[write to console]:  length 763672 bytes (745 KB)\n",
      "\n",
      "R[write to console]: downloaded 745 KB\n",
      "\n",
      "\n",
      "R[write to console]: trying URL 'https://cloud.r-project.org/bin/windows/contrib/4.2/Rdpack_2.4.zip'\n",
      "\n",
      "R[write to console]: Content type 'application/zip'\n",
      "R[write to console]:  length 957596 bytes (935 KB)\n",
      "\n",
      "R[write to console]: downloaded 935 KB\n",
      "\n",
      "\n",
      "R[write to console]: trying URL 'https://cloud.r-project.org/bin/windows/contrib/4.2/RcppArmadillo_0.11.4.3.1.zip'\n",
      "\n",
      "R[write to console]: Content type 'application/zip'\n",
      "R[write to console]:  length 1975851 bytes (1.9 MB)\n",
      "\n",
      "R[write to console]: downloaded 1.9 MB\n",
      "\n",
      "\n",
      "R[write to console]: trying URL 'https://cloud.r-project.org/bin/windows/contrib/4.2/mrf2d_1.0.zip'\n",
      "\n",
      "R[write to console]: Content type 'application/zip'\n",
      "R[write to console]:  length 1161952 bytes (1.1 MB)\n",
      "\n",
      "R[write to console]: downloaded 1.1 MB\n",
      "\n",
      "\n"
     ]
    },
    {
     "name": "stdout",
     "output_type": "stream",
     "text": [
      "package 'rbibutils' successfully unpacked and MD5 sums checked\n",
      "package 'Rdpack' successfully unpacked and MD5 sums checked\n",
      "package 'RcppArmadillo' successfully unpacked and MD5 sums checked\n",
      "package 'mrf2d' successfully unpacked and MD5 sums checked\n",
      "\n",
      "The downloaded binary packages are in\n",
      "\tC:\\Users\\karae\\AppData\\Local\\Temp\\RtmpEj2Hxz\\downloaded_packages\n"
     ]
    },
    {
     "data": {
      "text/plain": [
       "<rpy2.rinterface_lib.sexp.NULLType object at 0x000002DEC174D900> [RTYPES.NILSXP]"
      ]
     },
     "execution_count": 7,
     "metadata": {},
     "output_type": "execute_result"
    }
   ],
   "source": [
    "# Choosing a CRAN Mirror\n",
    "utils = importr('utils')\n",
    "base = importr('base')\n",
    "utils.chooseCRANmirror(ind=1)\n",
    "\n",
    "utils.install_packages('mrf2d')"
   ]
  },
  {
   "cell_type": "code",
   "execution_count": 5,
   "metadata": {},
   "outputs": [
    {
     "name": "stdout",
     "output_type": "stream",
     "text": [
      "[1] \"C:/Users/karae/AppData/Local/R/win-library/4.2\"\n",
      "[2] \"C:/Program Files/R/R-4.2.0/library\"            \n",
      "\n"
     ]
    }
   ],
   "source": [
    "from rpy2.robjects.packages import importr\n",
    "base = importr('base')\n",
    "print(base._libPaths())"
   ]
  },
  {
   "cell_type": "code",
   "execution_count": 8,
   "metadata": {},
   "outputs": [],
   "source": [
    "mrf2d = importr('mrf2d')"
   ]
  },
  {
   "cell_type": "code",
   "execution_count": null,
   "metadata": {},
   "outputs": [],
   "source": []
  }
 ],
 "metadata": {
  "kernelspec": {
   "display_name": "vrrl",
   "language": "python",
   "name": "python3"
  },
  "language_info": {
   "codemirror_mode": {
    "name": "ipython",
    "version": 3
   },
   "file_extension": ".py",
   "mimetype": "text/x-python",
   "name": "python",
   "nbconvert_exporter": "python",
   "pygments_lexer": "ipython3",
   "version": "3.8.13"
  },
  "orig_nbformat": 4,
  "vscode": {
   "interpreter": {
    "hash": "76fdbddd09d3bad11064401bc03600f9f122308b58fefb7c6c6208e871930f97"
   }
  }
 },
 "nbformat": 4,
 "nbformat_minor": 2
}

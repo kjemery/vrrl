{
 "cells": [
  {
   "cell_type": "markdown",
   "metadata": {},
   "source": [
    "## PART I\n",
    "A workflow for inference on the presence of a target object using an MRF. We designed a toy problem to validate whether target object inference matched our intuitions based on simulated co-occurrence statistics. We intend to compare the output of an exact inference algorithm to the manual calcuation of energy. "
   ]
  },
  {
   "cell_type": "code",
   "execution_count": 2,
   "metadata": {},
   "outputs": [
    {
     "name": "stderr",
     "output_type": "stream",
     "text": [
      "c:\\Users\\karae\\anaconda3\\envs\\vrrl\\lib\\site-packages\\tqdm\\auto.py:22: TqdmWarning: IProgress not found. Please update jupyter and ipywidgets. See https://ipywidgets.readthedocs.io/en/stable/user_install.html\n",
      "  from .autonotebook import tqdm as notebook_tqdm\n"
     ]
    }
   ],
   "source": [
    "import numpy as np\n",
    "import pandas as pd\n",
    "import matplotlib.pyplot as plt\n",
    "import plotly.express as px\n",
    "import seaborn as sns\n",
    "from pgmpy.models import MarkovNetwork\n",
    "from pgmpy.factors.discrete import DiscreteFactor\n",
    "from pgmpy.inference import VariableElimination, BeliefPropagation, ApproxInference\n",
    "from pgmpy.sampling import GibbsSampling\n",
    "import daft\n",
    "import random\n",
    "import itertools"
   ]
  },
  {
   "cell_type": "code",
   "execution_count": 3,
   "metadata": {},
   "outputs": [
    {
     "name": "stdout",
     "output_type": "stream",
     "text": [
      "[[0.  0.5 1.  0.2]\n",
      " [0.5 0.  0.2 0.1]\n",
      " [1.  0.2 0.  1. ]\n",
      " [0.2 0.1 1.  0. ]]\n"
     ]
    },
    {
     "data": {
      "image/png": "[encoded data removed]",
      "text/plain": [
       "<Figure size 640x480 with 2 Axes>"
      ]
     },
     "metadata": {},
     "output_type": "display_data"
    }
   ],
   "source": [
    "objects = [\"cup\",\"saucer\",\"table\",\"floor\"]\n",
    "\n",
    "# counts\n",
    "cooccur = np.array([[0,5,10,2],\n",
    "                    [5,0,2,1],\n",
    "                    [10,2,0,10],\n",
    "                    [2,1,10,0]])\n",
    "\n",
    "cooccur = cooccur/np.max(cooccur)\n",
    "\n",
    "print(cooccur)\n",
    "sns.heatmap(cooccur,xticklabels=objects,yticklabels=objects,cmap='crest')\n",
    "\n",
    "#np.fill_diagonal(cooccur,0)\n",
    "cooccur = pd.DataFrame(cooccur,index=objects,columns=objects)\n"
   ]
  },
  {
   "cell_type": "code",
   "execution_count": 4,
   "metadata": {},
   "outputs": [],
   "source": [
    "# instantiate network\n",
    "G = MarkovNetwork()\n",
    "\n",
    "# create graph (add nodes and edges)\n",
    "nodes = objects\n",
    "edges = list(itertools.combinations(objects,r=2))\n",
    "\n",
    "G.add_nodes_from(nodes)\n",
    "G.add_edges_from(edges)"
   ]
  },
  {
   "cell_type": "code",
   "execution_count": 5,
   "metadata": {},
   "outputs": [
    {
     "data": {
      "text/plain": [
       "<Axes:>"
      ]
     },
     "execution_count": 5,
     "metadata": {},
     "output_type": "execute_result"
    },
    {
     "data": {
      "image/png": "[encoded data removed]",
      "text/plain": [
       "<Figure size 336.614x271.654 with 1 Axes>"
      ]
     },
     "metadata": {},
     "output_type": "display_data"
    }
   ],
   "source": [
    "# illustrate graph\n",
    "pgm = daft.PGM(aspect=2.1, dpi=150, node_unit=1, grid_unit=3, directed=False, node_ec=None)\n",
    "\n",
    "x = [0, 1, 0, 1]\n",
    "y = [1, 1, 0, 0]\n",
    "\n",
    "for i in range(len(nodes)):\n",
    "    pgm.add_node(nodes[i], nodes[i], x[i], y[i])\n",
    "    \n",
    "for i in range(len(edges)):    \n",
    "    pgm.add_edge(edges[i][0],edges[i][1])\n",
    "    \n",
    "pgm.render()"
   ]
  },
  {
   "cell_type": "code",
   "execution_count": 6,
   "metadata": {},
   "outputs": [],
   "source": [
    "# phi based on Kollar & Roy 2009\n",
    "def compatibility(edge,cooccur):\n",
    "    \n",
    "    tt = cooccur.loc[edge[0],edge[1]] / np.sum(cooccur.loc[edge[0],:])\n",
    "    ft = (np.sum(cooccur.loc[:,edge[1]])-cooccur.loc[edge[0],edge[1]]) / (np.sum(np.triu(np.asarray(cooccur)))-np.sum(cooccur.loc[edge[0],:]))\n",
    "    tf = 1 - tt\n",
    "    ff = 1 - ft\n",
    "\n",
    "    phi = np.reshape([ff, ft, tf, tt],(2,2))\n",
    "    \n",
    "    return phi"
   ]
  },
  {
   "cell_type": "code",
   "execution_count": 7,
   "metadata": {},
   "outputs": [],
   "source": [
    "# create factors\n",
    "for e in G.edges():\n",
    "    factor = DiscreteFactor(e, [2, 2], compatibility(e,cooccur))\n",
    "    G.add_factors(factor)"
   ]
  },
  {
   "cell_type": "code",
   "execution_count": 8,
   "metadata": {},
   "outputs": [],
   "source": [
    "def mrf_approx_infer(nodes, cooccur, evidence={}, iterations=1000):\n",
    "\n",
    "    # total energy calculation\n",
    "    E = np.zeros(iterations)\n",
    "\n",
    "    # pregenerate states\n",
    "    S = pd.DataFrame(np.random.randint(low = 0, high = 2, size = (iterations,len(nodes))),columns = nodes)\n",
    "\n",
    "    if (len(evidence) > 0):\n",
    "        for idx, key in enumerate(list(evidence.items())):\n",
    "            S[key[0]] = key[1]\n",
    "\n",
    "    # start iterations loop\n",
    "    for i in range(iterations):\n",
    "        \n",
    "        state = S.iloc[i]\n",
    "        energy = []\n",
    "        edges = list(itertools.combinations(nodes,r=2))\n",
    "\n",
    "        for e in range(len(edges)):\n",
    "        \n",
    "            psi = compatibility(edges[e],cooccur)[state[edges[e][0]],state[edges[e][1]]]\n",
    "            energy.append(psi)\n",
    "\n",
    "        E[i] = np.sum(np.log(energy))\n",
    "\n",
    "    return S.iloc[np.argmax(E)] # print state with maximum energy \n"
   ]
  },
  {
   "cell_type": "code",
   "execution_count": 88,
   "metadata": {},
   "outputs": [],
   "source": [
    "def mrf_exact_infer(nodes, evidence={}, iterations=1000):\n",
    "\n",
    "    G_infer = BeliefPropagation(G)\n",
    "    node_states = pd.DataFrame(np.zeros((1,len(nodes))),index=['state'],columns=nodes)\n",
    "    \n",
    "    for i in range(len(list(evidence.keys()))):\n",
    "        node_states[list(evidence.keys())[i]] = list(evidence.values())[i]\n",
    "        nodes.remove(list(evidence.keys())[i])\n",
    "\n",
    "    for n in nodes:\n",
    "        G_prob = G_infer.query(variables=[n], evidence=evidence)\n",
    "        node_states[n] = np.argmax((G_prob.values))\n",
    "\n",
    "    return node_states.T"
   ]
  },
  {
   "cell_type": "code",
   "execution_count": 10,
   "metadata": {},
   "outputs": [
    {
     "name": "stdout",
     "output_type": "stream",
     "text": [
      "        state\n",
      "cup         1\n",
      "saucer      1\n",
      "table       0\n",
      "floor       0\n"
     ]
    }
   ],
   "source": [
    "# mrf exact inference with package\n",
    "nodes = objects.copy()\n",
    "evidence = {'saucer': 1}\n",
    "\n",
    "mrf_exact_infer(nodes,evidence)"
   ]
  },
  {
   "cell_type": "code",
   "execution_count": 11,
   "metadata": {},
   "outputs": [
    {
     "data": {
      "text/plain": [
       "cup       1\n",
       "saucer    1\n",
       "table     0\n",
       "floor     0\n",
       "Name: 11, dtype: int64"
      ]
     },
     "execution_count": 11,
     "metadata": {},
     "output_type": "execute_result"
    }
   ],
   "source": [
    "# mrf approximate inference custom\n",
    "nodes = objects.copy()\n",
    "evidence = {'saucer': 1}\n",
    "\n",
    "mrf_approx_infer(nodes,cooccur,evidence) "
   ]
  },
  {
   "cell_type": "markdown",
   "metadata": {},
   "source": [
    "## PART II\n",
    " \n",
    "Below attempts another toy problem with additional objects to verify custom algorithm."
   ]
  },
  {
   "cell_type": "code",
   "execution_count": 101,
   "metadata": {},
   "outputs": [],
   "source": [
    "all_objs = pd.read_excel('post_objects.xlsx')\n",
    "full_objects = []\n",
    "n = 10\n",
    "\n",
    "for i in range(n):\n",
    "    full_objects.append(all_objs.iloc[i][0][6:])"
   ]
  },
  {
   "cell_type": "code",
   "execution_count": 102,
   "metadata": {},
   "outputs": [
    {
     "data": {
      "text/plain": [
       "<AxesSubplot:>"
      ]
     },
     "execution_count": 102,
     "metadata": {},
     "output_type": "execute_result"
    },
    {
     "data": {
      "image/png": "[encoded data removed]",
      "text/plain": [
       "<Figure size 640x480 with 2 Axes>"
      ]
     },
     "metadata": {},
     "output_type": "display_data"
    }
   ],
   "source": [
    "# counts\n",
    "cooccur = np.random.randint(low=1,high=21,size=(len(full_objects),len(full_objects)))\n",
    "np.fill_diagonal(cooccur,0)\n",
    "cooccur = cooccur/np.max(cooccur)\n",
    "cooccur = np.tril(cooccur)\n",
    "cooccur = np.maximum(cooccur, cooccur.transpose())\n",
    "cooccur = pd.DataFrame(cooccur,index=full_objects,columns=full_objects)\n",
    "\n",
    "sns.heatmap(cooccur,cmap='crest')"
   ]
  },
  {
   "cell_type": "code",
   "execution_count": 103,
   "metadata": {},
   "outputs": [],
   "source": [
    "# instantiate network\n",
    "G = MarkovNetwork()\n",
    "\n",
    "# create graph (add nodes and edges)\n",
    "nodes = full_objects.copy()\n",
    "edges = list(itertools.combinations(full_objects,r=2))\n",
    "\n",
    "G.add_nodes_from(nodes)\n",
    "G.add_edges_from(edges)"
   ]
  },
  {
   "cell_type": "code",
   "execution_count": 104,
   "metadata": {},
   "outputs": [],
   "source": [
    "# create factors\n",
    "for e in G.edges():\n",
    "    factor = DiscreteFactor(e, [2, 2], compatibility(e,cooccur))\n",
    "    G.add_factors(factor)"
   ]
  },
  {
   "cell_type": "code",
   "execution_count": 116,
   "metadata": {},
   "outputs": [],
   "source": [
    "# mrf exact inference with package\n",
    "nodes = full_objects.copy()\n",
    "temp = mrf_exact_infer(nodes)"
   ]
  },
  {
   "cell_type": "code",
   "execution_count": 127,
   "metadata": {},
   "outputs": [
    {
     "data": {
      "text/plain": [
       "array([1, 0, 0, 0, 0, 0, 0, 0, 0, 0], dtype=int64)"
      ]
     },
     "execution_count": 127,
     "metadata": {},
     "output_type": "execute_result"
    }
   ],
   "source": [
    "np.asarray(temp.T)[0]"
   ]
  },
  {
   "cell_type": "code",
   "execution_count": 140,
   "metadata": {},
   "outputs": [],
   "source": [
    "# MRF APPROXIMATE INFERENCE\n",
    "\n",
    "# list of nodes\n",
    "nodes = full_objects.copy()\n",
    "instances = 100\n",
    "\n",
    "# data storage\n",
    "state_exact = np.zeros((instances,len(nodes)))\n",
    "state_approx = np.zeros((instances,len(nodes)))\n",
    "\n",
    "for i in range(instances):\n",
    "    \n",
    "    # create random evidence for inference\n",
    "    nodes = full_objects.copy()\n",
    "    evidence = {key: np.random.randint(low=0,high=2,size=1)[0] for key in random.sample(nodes,np.random.randint(low=0,high=len(nodes)+1))}\n",
    "    \n",
    "    state_exact[i,:] = np.asarray((mrf_exact_infer(nodes,evidence)).T)\n",
    "    state_approx[i,:] = np.asarray((mrf_approx_infer(nodes,cooccur,evidence,iterations=10000).T)) "
   ]
  },
  {
   "cell_type": "code",
   "execution_count": 149,
   "metadata": {},
   "outputs": [],
   "source": [
    "err = 0\n",
    "\n",
    "for i in range(instances):\n",
    "    \n",
    "    err += np.sum(state_exact[i,:] - state_approx[i,:])"
   ]
  },
  {
   "cell_type": "code",
   "execution_count": 151,
   "metadata": {},
   "outputs": [
    {
     "name": "stdout",
     "output_type": "stream",
     "text": [
      "0\n"
     ]
    }
   ],
   "source": [
    "# MRF APPROXIMATE INFERENCE\n",
    "\n",
    "# list of nodes\n",
    "nodes = full_objects.copy()\n",
    "instances = 10\n",
    "\n",
    "# data storage\n",
    "state_exact = np.zeros((instances,len(nodes)))\n",
    "state_approx = np.zeros((instances,len(nodes)))\n",
    "\n",
    "for i in range(instances):\n",
    "    print(i)\n",
    "    \n",
    "    # create random evidence for inference\n",
    "    nodes = full_objects.copy()\n",
    "    evidence = {key: np.random.randint(low=0,high=2,size=1)[0] for key in random.sample(nodes,np.random.randint(low=0,high=len(nodes)+1))}\n",
    "    \n",
    "    state_exact[i,:] = np.asarray((mrf_exact_infer(nodes,evidence)).T)\n",
    "    state_approx[i,:] = np.asarray((mrf_approx_infer(nodes,cooccur,evidence,iterations=100000).T)) "
   ]
  },
  {
   "cell_type": "code",
   "execution_count": 81,
   "metadata": {},
   "outputs": [
    {
     "ename": "ValueError",
     "evalue": "list.remove(x): x not in list",
     "output_type": "error",
     "traceback": [
      "\u001b[1;31m---------------------------------------------------------------------------\u001b[0m",
      "\u001b[1;31mValueError\u001b[0m                                Traceback (most recent call last)",
      "Cell \u001b[1;32mIn [81], line 9\u001b[0m\n\u001b[0;32m      7\u001b[0m \u001b[39mfor\u001b[39;00m i \u001b[39min\u001b[39;00m \u001b[39mlist\u001b[39m(evidence\u001b[39m.\u001b[39mkeys()):\n\u001b[0;32m      8\u001b[0m     node_states\u001b[39m.\u001b[39mloc[node_states[\u001b[39m'\u001b[39m\u001b[39mobjects\u001b[39m\u001b[39m'\u001b[39m] \u001b[39m==\u001b[39m i,\u001b[39m'\u001b[39m\u001b[39mstates\u001b[39m\u001b[39m'\u001b[39m] \u001b[39m=\u001b[39m evidence[i]\n\u001b[1;32m----> 9\u001b[0m     nodes\u001b[39m.\u001b[39;49mremove(i)\n\u001b[0;32m     11\u001b[0m start_state \u001b[39m=\u001b[39m \u001b[39mlist\u001b[39m(\u001b[39mzip\u001b[39m(node_states\u001b[39m.\u001b[39mobjects, node_states\u001b[39m.\u001b[39mstates))\n",
      "\u001b[1;31mValueError\u001b[0m: list.remove(x): x not in list"
     ]
    }
   ],
   "source": [
    "nodes = full_objects.copy()\n",
    "evidence = {'candle': 1, 'chair': 1}\n",
    "node_states = pd.DataFrame(None,columns=['objects','states'])\n",
    "node_states['objects'] = nodes\n",
    "node_states['states'] = np.zeros((len(nodes),1))\n",
    "    \n",
    "for i in list(evidence.keys()):\n",
    "    node_states.loc[node_states['objects'] == i,'states'] = evidence[i]\n",
    "    nodes.remove(i)\n",
    "\n",
    "start_state = list(zip(node_states.objects, node_states.states))\n"
   ]
  },
  {
   "cell_type": "code",
   "execution_count": null,
   "metadata": {},
   "outputs": [],
   "source": [
    "gibbs = GibbsSampling(G)\n",
    "gen = gibbs.sample(start_state=start_state,size=100)"
   ]
  },
  {
   "cell_type": "code",
   "execution_count": 610,
   "metadata": {},
   "outputs": [
    {
     "data": {
      "text/plain": [
       "[('baking_oven', 0.0),\n",
       " ('bar_stool', 0.0),\n",
       " ('basket', 0.0),\n",
       " ('blender', 0.0),\n",
       " ('bread_maker', 0.0),\n",
       " ('cabinets', 0.0),\n",
       " ('can', 0.0),\n",
       " ('can_opener', 0.0),\n",
       " ('candle', 1.0),\n",
       " ('card_catalog', 0.0),\n",
       " ('cereal_bowl', 0.0),\n",
       " ('chair', 1.0),\n",
       " ('cinnamon', 0.0),\n",
       " ('cloth', 0.0),\n",
       " ('coffee_maker', 0.0)]"
      ]
     },
     "execution_count": 610,
     "metadata": {},
     "output_type": "execute_result"
    }
   ],
   "source": [
    "start_state"
   ]
  },
  {
   "cell_type": "markdown",
   "metadata": {},
   "source": [
    "## PART III\n",
    "Below attempts the custom approximate inference algorithm on a larger (i.e., a more realistic number) set of objects to test how long it takes to run."
   ]
  },
  {
   "cell_type": "code",
   "execution_count": 321,
   "metadata": {},
   "outputs": [],
   "source": [
    "all_objs = pd.read_excel('post_objects.xlsx')\n",
    "full_objects = []\n",
    "\n",
    "for i in range(len(all_objs)):\n",
    "    full_objects.append(all_objs.iloc[i][0][6:])"
   ]
  },
  {
   "cell_type": "code",
   "execution_count": 322,
   "metadata": {},
   "outputs": [],
   "source": [
    "# counts\n",
    "cooccur = np.random.randint(low=1,high=21,size=(len(full_objects),len(full_objects)))\n",
    "np.fill_diagonal(cooccur,0)\n",
    "cooccur = cooccur/np.max(cooccur)\n",
    "cooccur = pd.DataFrame(cooccur,index=full_objects,columns=full_objects)"
   ]
  },
  {
   "cell_type": "code",
   "execution_count": 301,
   "metadata": {},
   "outputs": [
    {
     "data": {
      "text/plain": [
       "(baking_oven       1\n",
       " bar_stool         1\n",
       " basket            1\n",
       " blender           1\n",
       " bread_maker       1\n",
       "                  ..\n",
       " trash_can         1\n",
       " tub               0\n",
       " vanity_case       0\n",
       " wash_cloth        1\n",
       " window_curtain    0\n",
       " Name: 7, Length: 97, dtype: int64,\n",
       " -8289.056137141104)"
      ]
     },
     "execution_count": 301,
     "metadata": {},
     "output_type": "execute_result"
    }
   ],
   "source": [
    "# mrf approximate inference custom\n",
    "iterations = 10\n",
    "nodes = full_objects.copy()\n",
    "evidence = {'baking_oven': 1}\n",
    "\n",
    "mrf_approx_infer(nodes,cooccur,evidence,iterations)"
   ]
  },
  {
   "attachments": {},
   "cell_type": "markdown",
   "metadata": {},
   "source": [
    "## PART IV\n",
    "\n",
    "recode toy problem using mrf2d package in R"
   ]
  },
  {
   "cell_type": "code",
   "execution_count": 32,
   "metadata": {},
   "outputs": [],
   "source": [
    "import os\n",
    "import numpy as np\n",
    "os.environ['R_HOME'] = 'C:/Program Files/R/R-4.2.0'\n",
    "os.environ['R_USER'] = 'C:/Users/karae/anaconda3/envs/vrrl/lib/site-packages/rpy2'\n",
    "\n",
    "import rpy2\n",
    "from rpy2.robjects.packages import importr\n",
    "import rpy2.ipython.html\n",
    "import rpy2.robjects.lib.ggplot2 as gp\n",
    "from rpy2.robjects.vectors import StrVector, ListVector, IntVector\n",
    "\n",
    "\n",
    "rpy2.ipython.html.init_printing()\n"
   ]
  },
  {
   "cell_type": "code",
   "execution_count": 27,
   "metadata": {},
   "outputs": [],
   "source": [
    "# Choosing a CRAN Mirror\n",
    "utils = importr('utils')\n",
    "base = importr('base')\n",
    "utils.chooseCRANmirror(ind=1)\n",
    "\n",
    "# utils.install_packages()\n",
    "\n",
    "# import packages\n",
    "mrf2d = importr('mrf2d')"
   ]
  },
  {
   "cell_type": "code",
   "execution_count": 36,
   "metadata": {},
   "outputs": [],
   "source": [
    "interact = mrf2d.mrfi(max_norm = 1)"
   ]
  },
  {
   "cell_type": "code",
   "execution_count": 38,
   "metadata": {},
   "outputs": [
    {
     "data": {
      "text/html": [
       "\n",
       "<table class=\"rpy2_table\">\n",
       "<tr>\n",
       "  <th colspan=\"2\">RS4 object</th>\n",
       "</tr>\n",
       "<tr>\n",
       "  <th>Origin in R:</th>\n",
       "  <td> ???</td>\n",
       "</tr>\n",
       "<tr>\n",
       "  <th>Class(es) in R:</th>\n",
       "  <td>\n",
       "    <ul>\n",
       "      <li>mrfi</li>\n",
       "    </ul>\n",
       "  </td>\n",
       "</tr>\n",
       "<tr>\n",
       "  <th>Attributes:</th>\n",
       "  <td>\n",
       "  <ul>\n",
       "    <li>Rmat</li>\n",
       "  </ul>\n",
       "  </td>\n",
       "</tr>\n",
       "</table>"
      ],
      "text/plain": [
       "<rpy2.robjects.methods.RS4 object at 0x000001D20DB62BC0> [RTYPES.S4SXP]\n",
       "R classes: ('mrfi',)"
      ]
     },
     "execution_count": 38,
     "metadata": {},
     "output_type": "execute_result"
    }
   ],
   "source": [
    "interact"
   ]
  },
  {
   "cell_type": "code",
   "execution_count": null,
   "metadata": {},
   "outputs": [],
   "source": []
  }
 ],
 "metadata": {
  "kernelspec": {
   "display_name": "vrrl",
   "language": "python",
   "name": "python3"
  },
  "language_info": {
   "codemirror_mode": {
    "name": "ipython",
    "version": 3
   },
   "file_extension": ".py",
   "mimetype": "text/x-python",
   "name": "python",
   "nbconvert_exporter": "python",
   "pygments_lexer": "ipython3",
   "version": "3.8.13"
  },
  "orig_nbformat": 4,
  "vscode": {
   "interpreter": {
    "hash": "76fdbddd09d3bad11064401bc03600f9f122308b58fefb7c6c6208e871930f97"
   }
  }
 },
 "nbformat": 4,
 "nbformat_minor": 2
}

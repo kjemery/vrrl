{
 "cells": [
  {
   "cell_type": "markdown",
   "metadata": {},
   "source": [
    "## PART I\n",
    "A workflow for inference on the presence of a target object using an MRF. We designed a toy problem to validate whether target object inference matched our intuitions based on simulated co-occurrence statistics. We intend to compare the output of an exact inference algorithm to the manual calcuation of energy. "
   ]
  },
  {
   "cell_type": "code",
   "execution_count": 395,
   "metadata": {},
   "outputs": [],
   "source": [
    "import numpy as np\n",
    "import pandas as pd\n",
    "import matplotlib.pyplot as plt\n",
    "import plotly.express as px\n",
    "import seaborn as sns\n",
    "from pgmpy.models import MarkovNetwork\n",
    "from pgmpy.factors.discrete import DiscreteFactor\n",
    "from pgmpy.inference import VariableElimination, BeliefPropagation\n",
    "from pgmpy.sampling import GibbsSampling\n",
    "import daft\n",
    "import random\n",
    "import itertools"
   ]
  },
  {
   "cell_type": "code",
   "execution_count": 396,
   "metadata": {},
   "outputs": [
    {
     "name": "stdout",
     "output_type": "stream",
     "text": [
      "[[0.  0.5 1.  0.2]\n",
      " [0.5 0.  0.2 0.1]\n",
      " [1.  0.2 0.  1. ]\n",
      " [0.2 0.1 1.  0. ]]\n"
     ]
    },
    {
     "data": {
      "image/png": "[encoded data removed]",
      "text/plain": [
       "<Figure size 640x480 with 2 Axes>"
      ]
     },
     "metadata": {},
     "output_type": "display_data"
    }
   ],
   "source": [
    "objects = [\"cup\",\"saucer\",\"table\",\"floor\"]\n",
    "\n",
    "# counts\n",
    "cooccur = np.array([[0,5,10,2],\n",
    "                    [5,0,2,1],\n",
    "                    [10,2,0,10],\n",
    "                    [2,1,10,0]])\n",
    "\n",
    "cooccur = cooccur/np.max(cooccur)\n",
    "\n",
    "print(cooccur)\n",
    "sns.heatmap(cooccur,xticklabels=objects,yticklabels=objects,cmap='crest')\n",
    "\n",
    "#np.fill_diagonal(cooccur,0)\n",
    "cooccur = pd.DataFrame(cooccur,index=objects,columns=objects)\n"
   ]
  },
  {
   "cell_type": "code",
   "execution_count": 397,
   "metadata": {},
   "outputs": [],
   "source": [
    "# instantiate network\n",
    "G = MarkovNetwork()\n",
    "\n",
    "# create graph (add nodes and edges)\n",
    "nodes = objects\n",
    "edges = list(itertools.combinations(objects,r=2))\n",
    "\n",
    "G.add_nodes_from(nodes)\n",
    "G.add_edges_from(edges)"
   ]
  },
  {
   "cell_type": "code",
   "execution_count": 398,
   "metadata": {},
   "outputs": [
    {
     "data": {
      "text/plain": [
       "<Axes:>"
      ]
     },
     "execution_count": 398,
     "metadata": {},
     "output_type": "execute_result"
    },
    {
     "data": {
      "image/png": "[encoded data removed]",
      "text/plain": [
       "<Figure size 336.614x271.654 with 1 Axes>"
      ]
     },
     "metadata": {},
     "output_type": "display_data"
    }
   ],
   "source": [
    "# illustrate graph\n",
    "pgm = daft.PGM(aspect=2.1, dpi=150, node_unit=1, grid_unit=3, directed=False, node_ec=None)\n",
    "\n",
    "x = [0, 1, 0, 1]\n",
    "y = [1, 1, 0, 0]\n",
    "\n",
    "for i in range(len(nodes)):\n",
    "    pgm.add_node(nodes[i], nodes[i], x[i], y[i])\n",
    "    \n",
    "for i in range(len(edges)):    \n",
    "    pgm.add_edge(edges[i][0],edges[i][1])\n",
    "    \n",
    "pgm.render()"
   ]
  },
  {
   "cell_type": "code",
   "execution_count": 399,
   "metadata": {},
   "outputs": [],
   "source": [
    "# phi based on Kollar & Roy 2009\n",
    "def compatibility(edge,cooccur):\n",
    "    \n",
    "    tt = cooccur.loc[edge[0],edge[1]] / np.sum(cooccur.loc[edge[0],:])\n",
    "    ft = (np.sum(cooccur.loc[:,edge[1]])-cooccur.loc[edge[0],edge[1]]) / (np.sum(np.triu(np.asarray(cooccur)))-np.sum(cooccur.loc[edge[0],:]))\n",
    "    tf = 1 - tt\n",
    "    ff = 1 - ft\n",
    "\n",
    "    phi = np.reshape([ff, ft, tf, tt],(2,2))\n",
    "    \n",
    "    return phi"
   ]
  },
  {
   "cell_type": "code",
   "execution_count": 400,
   "metadata": {},
   "outputs": [],
   "source": [
    "# create factors\n",
    "for e in G.edges():\n",
    "    factor = DiscreteFactor(e, [2, 2], compatibility(e,cooccur))\n",
    "    G.add_factors(factor)"
   ]
  },
  {
   "cell_type": "code",
   "execution_count": 401,
   "metadata": {},
   "outputs": [],
   "source": [
    "def mrf_approx_infer(nodes, cooccur, evidence={}, iterations=1000):\n",
    "\n",
    "    # total energy calculation\n",
    "    E = np.zeros(iterations)\n",
    "\n",
    "    # pregenerate states\n",
    "    S = pd.DataFrame(np.random.randint(low = 0, high = 2, size = (iterations,len(nodes))),columns = nodes)\n",
    "\n",
    "    if (len(evidence) > 0):\n",
    "        for idx, key in enumerate(list(evidence.items())):\n",
    "            S[key[0]] = key[1]\n",
    "\n",
    "    # start iterations loop\n",
    "    for i in range(iterations):\n",
    "        \n",
    "        state = S.iloc[i]\n",
    "        energy = []\n",
    "        edges = list(itertools.combinations(nodes,r=2))\n",
    "\n",
    "        for e in range(len(edges)):\n",
    "        \n",
    "            psi = compatibility(edges[e],cooccur)[state[edges[e][0]],state[edges[e][1]]]\n",
    "            energy.append(psi)\n",
    "\n",
    "        E[i] = np.sum(np.log(energy))\n",
    "\n",
    "    return S.iloc[np.argmax(E)] # print state with maximum energy \n"
   ]
  },
  {
   "cell_type": "code",
   "execution_count": 406,
   "metadata": {},
   "outputs": [],
   "source": [
    "def mrf_exact_infer(nodes, evidence={}, iterations=1000):\n",
    "\n",
    "    G_infer = BeliefPropagation(G)\n",
    "    node_states = pd.DataFrame(np.zeros((1,len(nodes))),index=['state'],columns=nodes)\n",
    "    \n",
    "    for i in range(len(list(evidence.keys()))):\n",
    "        node_states[list(evidence.keys())[i]] = list(evidence.values())[i]\n",
    "        nodes.remove(list(evidence.keys())[i])\n",
    "\n",
    "    for n in nodes:\n",
    "        G_prob = G_infer.query(variables=[n], evidence=evidence)\n",
    "        node_states[n] = np.argmax((G_prob.values))\n",
    "\n",
    "    return print(node_states.T)"
   ]
  },
  {
   "cell_type": "code",
   "execution_count": 407,
   "metadata": {},
   "outputs": [
    {
     "name": "stdout",
     "output_type": "stream",
     "text": [
      "        state\n",
      "cup         1\n",
      "saucer      1\n",
      "table       0\n",
      "floor       0\n"
     ]
    }
   ],
   "source": [
    "# mrf exact inference with package\n",
    "nodes = objects.copy()\n",
    "evidence = {'saucer': 1}\n",
    "\n",
    "mrf_exact_infer(nodes,evidence)"
   ]
  },
  {
   "cell_type": "code",
   "execution_count": 314,
   "metadata": {},
   "outputs": [
    {
     "data": {
      "text/plain": [
       "cup       1\n",
       "saucer    0\n",
       "table     1\n",
       "floor     0\n",
       "spoon     0\n",
       "fork      0\n",
       "Name: 1, dtype: int64"
      ]
     },
     "execution_count": 314,
     "metadata": {},
     "output_type": "execute_result"
    }
   ],
   "source": [
    "# mrf approximate inference custom\n",
    "nodes = objects.copy()\n",
    "evidence = {'saucer': 1}\n",
    "\n",
    "mrf_approx_infer(nodes,cooccur,evidence) "
   ]
  },
  {
   "cell_type": "markdown",
   "metadata": {},
   "source": [
    "## PART II\n",
    " \n",
    "Below attempts another toy problem with additional objects to verify custom algorithm."
   ]
  },
  {
   "cell_type": "code",
   "execution_count": 470,
   "metadata": {},
   "outputs": [],
   "source": [
    "all_objs = pd.read_excel('post_objects.xlsx')\n",
    "full_objects = []\n",
    "n = 15\n",
    "\n",
    "for i in range(n):\n",
    "    full_objects.append(all_objs.iloc[i][0][6:])"
   ]
  },
  {
   "cell_type": "code",
   "execution_count": 471,
   "metadata": {},
   "outputs": [
    {
     "data": {
      "text/plain": [
       "<AxesSubplot:>"
      ]
     },
     "execution_count": 471,
     "metadata": {},
     "output_type": "execute_result"
    },
    {
     "data": {
      "image/png": "[encoded data removed]",
      "text/plain": [
       "<Figure size 640x480 with 2 Axes>"
      ]
     },
     "metadata": {},
     "output_type": "display_data"
    }
   ],
   "source": [
    "# counts\n",
    "cooccur = np.random.randint(low=1,high=21,size=(len(full_objects),len(full_objects)))\n",
    "np.fill_diagonal(cooccur,0)\n",
    "cooccur = cooccur/np.max(cooccur)\n",
    "cooccur = np.tril(cooccur)\n",
    "cooccur = np.maximum(cooccur, cooccur.transpose())\n",
    "cooccur = pd.DataFrame(cooccur,index=full_objects,columns=full_objects)\n",
    "\n",
    "sns.heatmap(cooccur,cmap='crest')"
   ]
  },
  {
   "cell_type": "code",
   "execution_count": 472,
   "metadata": {},
   "outputs": [],
   "source": [
    "# instantiate network\n",
    "G = MarkovNetwork()\n",
    "\n",
    "# create graph (add nodes and edges)\n",
    "nodes = full_objects.copy()\n",
    "edges = list(itertools.combinations(full_objects,r=2))\n",
    "\n",
    "G.add_nodes_from(nodes)\n",
    "G.add_edges_from(edges)"
   ]
  },
  {
   "cell_type": "code",
   "execution_count": 479,
   "metadata": {},
   "outputs": [],
   "source": [
    "# create factors\n",
    "for e in G.edges():\n",
    "    factor = DiscreteFactor(e, [2, 2], compatibility(e,cooccur))\n",
    "    G.add_factors(factor)"
   ]
  },
  {
   "cell_type": "code",
   "execution_count": 489,
   "metadata": {},
   "outputs": [
    {
     "name": "stdout",
     "output_type": "stream",
     "text": [
      "              state\n",
      "baking_oven       1\n",
      "bar_stool         0\n",
      "basket            0\n",
      "blender           1\n",
      "bread_maker       0\n",
      "cabinets          0\n",
      "can               0\n",
      "can_opener        0\n",
      "candle            0\n",
      "card_catalog      0\n",
      "cereal_bowl       0\n",
      "chair             0\n",
      "cinnamon          0\n",
      "cloth             0\n",
      "coffee_maker      0\n"
     ]
    }
   ],
   "source": [
    "# mrf exact inference with package\n",
    "nodes = full_objects.copy()\n",
    "evidence = {'blender': 1}\n",
    "\n",
    "mrf_exact_infer(nodes,evidence)"
   ]
  },
  {
   "cell_type": "code",
   "execution_count": 464,
   "metadata": {},
   "outputs": [
    {
     "data": {
      "text/plain": [
       "baking_oven     0\n",
       "bar_stool       1\n",
       "basket          1\n",
       "blender         0\n",
       "bread_maker     1\n",
       "cabinets        0\n",
       "can             0\n",
       "can_opener      0\n",
       "candle          1\n",
       "card_catalog    0\n",
       "cereal_bowl     0\n",
       "chair           1\n",
       "cinnamon        0\n",
       "cloth           0\n",
       "coffee_maker    0\n",
       "Name: 43, dtype: int64"
      ]
     },
     "execution_count": 464,
     "metadata": {},
     "output_type": "execute_result"
    }
   ],
   "source": [
    "# mrf approximate inference custom\n",
    "nodes = full_objects.copy()\n",
    "evidence = {'candle': 1, 'chair': 1}\n",
    "iterations = 100\n",
    "\n",
    "mrf_approx_infer(nodes,cooccur,evidence,iterations) "
   ]
  },
  {
   "cell_type": "code",
   "execution_count": 508,
   "metadata": {},
   "outputs": [
    {
     "ename": "TypeError",
     "evalue": "cannot unpack non-iterable int object",
     "output_type": "error",
     "traceback": [
      "\u001b[0;31m---------------------------------------------------------------------------\u001b[0m",
      "\u001b[0;31mTypeError\u001b[0m                                 Traceback (most recent call last)",
      "\u001b[1;32m/Users/karaemery/Library/CloudStorage/Box-Box/vrrl/mrf/mrf_approximate_inference.ipynb Cell 19\u001b[0m in \u001b[0;36m<cell line: 2>\u001b[0;34m()\u001b[0m\n\u001b[1;32m      <a href='vscode-notebook-cell:/Users/karaemery/Library/CloudStorage/Box-Box/vrrl/mrf/mrf_approximate_inference.ipynb#Y112sZmlsZQ%3D%3D?line=0'>1</a>\u001b[0m gibbs \u001b[39m=\u001b[39m GibbsSampling(G)\n\u001b[0;32m----> <a href='vscode-notebook-cell:/Users/karaemery/Library/CloudStorage/Box-Box/vrrl/mrf/mrf_approximate_inference.ipynb#Y112sZmlsZQ%3D%3D?line=1'>2</a>\u001b[0m gen \u001b[39m=\u001b[39m gibbs\u001b[39m.\u001b[39;49msample(start_state\u001b[39m=\u001b[39;49m[\u001b[39m1\u001b[39;49m,\u001b[39m0\u001b[39;49m,\u001b[39m0\u001b[39;49m,\u001b[39m0\u001b[39;49m,\u001b[39m0\u001b[39;49m,\u001b[39m0\u001b[39;49m,\u001b[39m0\u001b[39;49m,\u001b[39m0\u001b[39;49m,\u001b[39m0\u001b[39;49m,\u001b[39m0\u001b[39;49m,\u001b[39m0\u001b[39;49m,\u001b[39m0\u001b[39;49m,\u001b[39m0\u001b[39;49m,\u001b[39m0\u001b[39;49m,\u001b[39m0\u001b[39;49m],size\u001b[39m=\u001b[39;49m\u001b[39m2\u001b[39;49m)\n",
      "File \u001b[0;32m~/opt/anaconda3/envs/vrrl/lib/python3.9/site-packages/pgmpy/sampling/Sampling.py:523\u001b[0m, in \u001b[0;36mGibbsSampling.sample\u001b[0;34m(self, start_state, size, seed, include_latents)\u001b[0m\n\u001b[1;32m    521\u001b[0m     \u001b[39mself\u001b[39m\u001b[39m.\u001b[39mstate \u001b[39m=\u001b[39m \u001b[39mself\u001b[39m\u001b[39m.\u001b[39mrandom_state()\n\u001b[1;32m    522\u001b[0m \u001b[39melif\u001b[39;00m start_state \u001b[39mis\u001b[39;00m \u001b[39mnot\u001b[39;00m \u001b[39mNone\u001b[39;00m:\n\u001b[0;32m--> 523\u001b[0m     \u001b[39mself\u001b[39;49m\u001b[39m.\u001b[39;49mset_start_state(start_state)\n\u001b[1;32m    525\u001b[0m \u001b[39mif\u001b[39;00m seed \u001b[39mis\u001b[39;00m \u001b[39mnot\u001b[39;00m \u001b[39mNone\u001b[39;00m:\n\u001b[1;32m    526\u001b[0m     np\u001b[39m.\u001b[39mrandom\u001b[39m.\u001b[39mseed(seed)\n",
      "File \u001b[0;32m~/opt/anaconda3/envs/vrrl/lib/python3.9/site-packages/pgmpy/models/MarkovChain.py:105\u001b[0m, in \u001b[0;36mMarkovChain.set_start_state\u001b[0;34m(self, start_state)\u001b[0m\n\u001b[1;32m    103\u001b[0m         \u001b[39mraise\u001b[39;00m \u001b[39mValueError\u001b[39;00m(\u001b[39m\"\u001b[39m\u001b[39mstart_state must be a non-string iterable.\u001b[39m\u001b[39m\"\u001b[39m)\n\u001b[1;32m    104\u001b[0m     \u001b[39m# Must be an array-like iterable. Reorder according to self.variables.\u001b[39;00m\n\u001b[0;32m--> 105\u001b[0m     state_dict \u001b[39m=\u001b[39m {var: st \u001b[39mfor\u001b[39;00m var, st \u001b[39min\u001b[39;00m start_state}\n\u001b[1;32m    106\u001b[0m     start_state \u001b[39m=\u001b[39m [State(var, state_dict[var]) \u001b[39mfor\u001b[39;00m var \u001b[39min\u001b[39;00m \u001b[39mself\u001b[39m\u001b[39m.\u001b[39mvariables]\n\u001b[1;32m    107\u001b[0m \u001b[39mif\u001b[39;00m start_state \u001b[39mis\u001b[39;00m \u001b[39mNone\u001b[39;00m \u001b[39mor\u001b[39;00m \u001b[39mself\u001b[39m\u001b[39m.\u001b[39m_check_state(start_state):\n",
      "File \u001b[0;32m~/opt/anaconda3/envs/vrrl/lib/python3.9/site-packages/pgmpy/models/MarkovChain.py:105\u001b[0m, in \u001b[0;36m<dictcomp>\u001b[0;34m(.0)\u001b[0m\n\u001b[1;32m    103\u001b[0m         \u001b[39mraise\u001b[39;00m \u001b[39mValueError\u001b[39;00m(\u001b[39m\"\u001b[39m\u001b[39mstart_state must be a non-string iterable.\u001b[39m\u001b[39m\"\u001b[39m)\n\u001b[1;32m    104\u001b[0m     \u001b[39m# Must be an array-like iterable. Reorder according to self.variables.\u001b[39;00m\n\u001b[0;32m--> 105\u001b[0m     state_dict \u001b[39m=\u001b[39m {var: st \u001b[39mfor\u001b[39;00m var, st \u001b[39min\u001b[39;00m start_state}\n\u001b[1;32m    106\u001b[0m     start_state \u001b[39m=\u001b[39m [State(var, state_dict[var]) \u001b[39mfor\u001b[39;00m var \u001b[39min\u001b[39;00m \u001b[39mself\u001b[39m\u001b[39m.\u001b[39mvariables]\n\u001b[1;32m    107\u001b[0m \u001b[39mif\u001b[39;00m start_state \u001b[39mis\u001b[39;00m \u001b[39mNone\u001b[39;00m \u001b[39mor\u001b[39;00m \u001b[39mself\u001b[39m\u001b[39m.\u001b[39m_check_state(start_state):\n",
      "\u001b[0;31mTypeError\u001b[0m: cannot unpack non-iterable int object"
     ]
    }
   ],
   "source": [
    "gibbs = GibbsSampling(G)\n",
    "states = [1,0,0,0,0,0,0,0,0,0,0,0,0,0,0]\n",
    "start_state = dict(nodes,)\n",
    "\n",
    "gen = gibbs.sample(start_state=,size=2)"
   ]
  },
  {
   "cell_type": "code",
   "execution_count": 505,
   "metadata": {},
   "outputs": [
    {
     "name": "stdout",
     "output_type": "stream",
     "text": [
      "[[1 0 1 0 0 0 0 1 0 0 1 1 1 1 1]\n",
      " [0 0 0 0 0 0 0 0 0 0 0 0 0 0 0]]\n"
     ]
    }
   ],
   "source": [
    "print(gen.values)"
   ]
  },
  {
   "cell_type": "markdown",
   "metadata": {},
   "source": [
    "## PART III\n",
    "Below attempts the custom approximate inference algorithm on a larger (i.e., a more realistic number) set of objects to test how long it takes to run."
   ]
  },
  {
   "cell_type": "code",
   "execution_count": 321,
   "metadata": {},
   "outputs": [],
   "source": [
    "all_objs = pd.read_excel('post_objects.xlsx')\n",
    "full_objects = []\n",
    "\n",
    "for i in range(len(all_objs)):\n",
    "    full_objects.append(all_objs.iloc[i][0][6:])"
   ]
  },
  {
   "cell_type": "code",
   "execution_count": 322,
   "metadata": {},
   "outputs": [],
   "source": [
    "# counts\n",
    "cooccur = np.random.randint(low=1,high=21,size=(len(full_objects),len(full_objects)))\n",
    "np.fill_diagonal(cooccur,0)\n",
    "cooccur = cooccur/np.max(cooccur)\n",
    "cooccur = pd.DataFrame(cooccur,index=full_objects,columns=full_objects)"
   ]
  },
  {
   "cell_type": "code",
   "execution_count": 301,
   "metadata": {},
   "outputs": [
    {
     "data": {
      "text/plain": [
       "(baking_oven       1\n",
       " bar_stool         1\n",
       " basket            1\n",
       " blender           1\n",
       " bread_maker       1\n",
       "                  ..\n",
       " trash_can         1\n",
       " tub               0\n",
       " vanity_case       0\n",
       " wash_cloth        1\n",
       " window_curtain    0\n",
       " Name: 7, Length: 97, dtype: int64,\n",
       " -8289.056137141104)"
      ]
     },
     "execution_count": 301,
     "metadata": {},
     "output_type": "execute_result"
    }
   ],
   "source": [
    "# mrf approximate inference custom\n",
    "iterations = 10\n",
    "nodes = full_objects.copy()\n",
    "evidence = {'baking_oven': 1}\n",
    "\n",
    "mrf_approx_infer(nodes,cooccur,evidence,iterations)"
   ]
  },
  {
   "cell_type": "code",
   "execution_count": null,
   "metadata": {},
   "outputs": [],
   "source": []
  }
 ],
 "metadata": {
  "kernelspec": {
   "display_name": "Python 3.9.13 ('vrrl')",
   "language": "python",
   "name": "python3"
  },
  "language_info": {
   "codemirror_mode": {
    "name": "ipython",
    "version": 3
   },
   "file_extension": ".py",
   "mimetype": "text/x-python",
   "name": "python",
   "nbconvert_exporter": "python",
   "pygments_lexer": "ipython3",
   "version": "3.9.13"
  },
  "orig_nbformat": 4,
  "vscode": {
   "interpreter": {
    "hash": "902fa84d88b9ae0a1c6aaf735e70336cf8dd7646797d96218ccd5abbdbfc6387"
   }
  }
 },
 "nbformat": 4,
 "nbformat_minor": 2
}

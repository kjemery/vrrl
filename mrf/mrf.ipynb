{
 "cells": [
  {
   "cell_type": "markdown",
   "metadata": {},
   "source": [
    "This is the setup for a standard MRF with inference\n",
    "\n",
    "Things to discuss:\n",
    "\n",
    "1. Type of factor: Discrete vs. Continuous \n",
    "2. Type of inference: Variable Elimination vs. Belief Propogation\n",
    "3. How to calculate phi using co-occurrences?"
   ]
  },
  {
   "cell_type": "code",
   "execution_count": 10,
   "metadata": {},
   "outputs": [],
   "source": [
    "import numpy as np\n",
    "import pandas as pd\n",
    "import matplotlib.pyplot as plt\n",
    "import plotly.express as px\n",
    "import seaborn as sns\n",
    "from pgmpy.models import MarkovNetwork\n",
    "from pgmpy.factors.discrete import DiscreteFactor\n",
    "from pgmpy.inference import VariableElimination, BeliefPropagation\n",
    "from pgmpy.sampling import GibbsSampling\n",
    "import daft\n",
    "import random\n",
    "import itertools"
   ]
  },
  {
   "cell_type": "code",
   "execution_count": 2,
   "metadata": {},
   "outputs": [
    {
     "name": "stdout",
     "output_type": "stream",
     "text": [
      "[[0.  0.5 1.  0.2]\n",
      " [0.5 0.  0.2 0. ]\n",
      " [1.  0.2 0.  1. ]\n",
      " [0.2 0.  1.  0. ]]\n"
     ]
    },
    {
     "data": {
      "image/png": "[encoded data removed]",
      "text/plain": [
       "<Figure size 640x480 with 2 Axes>"
      ]
     },
     "metadata": {},
     "output_type": "display_data"
    }
   ],
   "source": [
    "objects = [\"cup\",\"saucer\",\"table\",\"floor\"]\n",
    "\n",
    "# counts\n",
    "cooccur = np.array([[0,5,10,2],\n",
    "                    [5,0,2,0],\n",
    "                    [10,2,0,10],\n",
    "                    [2,0,10,0]])\n",
    "\n",
    "cooccur = cooccur/np.max(cooccur)\n",
    "\n",
    "# correlation\n",
    "# cooccur = np.array([[0,0.9,0.5,0.1],\n",
    "#                     [0.9,0,0.25,0],\n",
    "#                     [0.5,0.25,0,0.75],\n",
    "#                     [0.1,0,0.75,0]])\n",
    "\n",
    "\n",
    "print(cooccur)\n",
    "sns.heatmap(cooccur,xticklabels=objects,yticklabels=objects,cmap='crest')\n",
    "\n",
    "#np.fill_diagonal(cooccur,0)\n",
    "cooccur = pd.DataFrame(cooccur,index=objects,columns=objects)\n"
   ]
  },
  {
   "cell_type": "code",
   "execution_count": 5,
   "metadata": {},
   "outputs": [],
   "source": [
    "# instantiate network\n",
    "G = MarkovNetwork()\n",
    "\n",
    "# create graph (add nodes and edges)\n",
    "nodes = objects\n",
    "edges = list(itertools.combinations(objects,r=2))\n",
    "\n",
    "G.add_nodes_from(nodes)\n",
    "G.add_edges_from(edges)"
   ]
  },
  {
   "cell_type": "code",
   "execution_count": 6,
   "metadata": {},
   "outputs": [
    {
     "data": {
      "text/plain": [
       "<Axes:>"
      ]
     },
     "execution_count": 6,
     "metadata": {},
     "output_type": "execute_result"
    },
    {
     "data": {
      "image/png": "[encoded data removed]",
      "text/plain": [
       "<Figure size 336.614x271.654 with 1 Axes>"
      ]
     },
     "metadata": {},
     "output_type": "display_data"
    }
   ],
   "source": [
    "# illustrate graph\n",
    "pgm = daft.PGM(aspect=2.1, dpi=150, node_unit=1, grid_unit=3, directed=False, node_ec=None)\n",
    "\n",
    "x = [0, 1, 0, 1]\n",
    "y = [1, 1, 0, 0]\n",
    "\n",
    "for i in range(len(nodes)):\n",
    "    pgm.add_node(nodes[i], nodes[i], x[i], y[i])\n",
    "    \n",
    "for i in range(len(edges)):    \n",
    "    pgm.add_edge(edges[i][0],edges[i][1])\n",
    "    \n",
    "pgm.render()"
   ]
  },
  {
   "cell_type": "code",
   "execution_count": 7,
   "metadata": {},
   "outputs": [],
   "source": [
    "# phi \n",
    "def compatibility(edge):\n",
    "    \n",
    "    tt = cooccur.loc[edge[0],edge[1]] / np.sum(cooccur.loc[edge[0],:])\n",
    "    ft = (np.sum(cooccur.loc[:,edge[1]])-cooccur.loc[edge[0],edge[1]]) / (np.sum(np.triu(np.asarray(cooccur)))-np.sum(cooccur.loc[edge[0],:]))\n",
    "    tf = 1 - tt\n",
    "    ff = 1 - ft\n",
    "\n",
    "    phi = [ff, ft, tf, tt]\n",
    "    \n",
    "    return phi"
   ]
  },
  {
   "cell_type": "code",
   "execution_count": 8,
   "metadata": {},
   "outputs": [
    {
     "data": {
      "text/plain": [
       "[[('table', 0), ('floor', 0)],\n",
       " [('table', 0), ('floor', 1)],\n",
       " [('table', 1), ('floor', 0)],\n",
       " [('table', 1), ('floor', 1)]]"
      ]
     },
     "execution_count": 8,
     "metadata": {},
     "output_type": "execute_result"
    }
   ],
   "source": [
    "# create factors\n",
    "for edge in G.edges():\n",
    "    #print(compatibility(edge))\n",
    "    factor = DiscreteFactor(edge, [2, 2], compatibility(edge))\n",
    "    G.add_factors(factor)\n",
    "    \n",
    "#print(G.edges())\n",
    "factor.assignment([0,1,2,3])"
   ]
  },
  {
   "cell_type": "code",
   "execution_count": 19,
   "metadata": {},
   "outputs": [
    {
     "name": "stdout",
     "output_type": "stream",
     "text": [
      "+--------+------------+\n",
      "| cup    |   phi(cup) |\n",
      "+========+============+\n",
      "| cup(0) |     0.0043 |\n",
      "+--------+------------+\n",
      "| cup(1) |     0.0783 |\n",
      "+--------+------------+\n"
     ]
    }
   ],
   "source": [
    "# inference\n",
    "G_infer = VariableElimination(G)\n",
    "G_prob = G_infer.query(variables=['cup'], evidence={'saucer': 1})\n",
    "#G_prob = G_infer.query(variables=['saucer'], evidence={'cup': 1})\n",
    "print(G_prob)"
   ]
  },
  {
   "cell_type": "code",
   "execution_count": 11,
   "metadata": {},
   "outputs": [],
   "source": [
    "gibbs = GibbsSampling(G)"
   ]
  },
  {
   "cell_type": "code",
   "execution_count": 15,
   "metadata": {},
   "outputs": [
    {
     "name": "stderr",
     "output_type": "stream",
     "text": [
      "  0%|          | 0/3 [00:00<?, ?it/s]c:\\Users\\karae\\anaconda3\\envs\\vrrl\\lib\\site-packages\\pgmpy\\utils\\mathext.py:83: UserWarning: Probability values don't exactly sum to 1. Differ by: 1.1102230246251565e-16. Adjusting values.\n",
      "  warn(\n",
      "100%|██████████| 3/3 [00:00<00:00, 1003.50it/s]\n"
     ]
    },
    {
     "data": {
      "text/html": [
       "<div>\n",
       "<style scoped>\n",
       "    .dataframe tbody tr th:only-of-type {\n",
       "        vertical-align: middle;\n",
       "    }\n",
       "\n",
       "    .dataframe tbody tr th {\n",
       "        vertical-align: top;\n",
       "    }\n",
       "\n",
       "    .dataframe thead th {\n",
       "        text-align: right;\n",
       "    }\n",
       "</style>\n",
       "<table border=\"1\" class=\"dataframe\">\n",
       "  <thead>\n",
       "    <tr style=\"text-align: right;\">\n",
       "      <th></th>\n",
       "      <th>cup</th>\n",
       "      <th>saucer</th>\n",
       "      <th>table</th>\n",
       "      <th>floor</th>\n",
       "    </tr>\n",
       "  </thead>\n",
       "  <tbody>\n",
       "    <tr>\n",
       "      <th>0</th>\n",
       "      <td>0</td>\n",
       "      <td>0</td>\n",
       "      <td>0</td>\n",
       "      <td>1</td>\n",
       "    </tr>\n",
       "    <tr>\n",
       "      <th>1</th>\n",
       "      <td>1</td>\n",
       "      <td>0</td>\n",
       "      <td>1</td>\n",
       "      <td>0</td>\n",
       "    </tr>\n",
       "    <tr>\n",
       "      <th>2</th>\n",
       "      <td>1</td>\n",
       "      <td>0</td>\n",
       "      <td>0</td>\n",
       "      <td>0</td>\n",
       "    </tr>\n",
       "    <tr>\n",
       "      <th>3</th>\n",
       "      <td>1</td>\n",
       "      <td>1</td>\n",
       "      <td>0</td>\n",
       "      <td>0</td>\n",
       "    </tr>\n",
       "  </tbody>\n",
       "</table>\n",
       "</div>"
      ],
      "text/plain": [
       "   cup  saucer  table  floor\n",
       "0    0       0      0      1\n",
       "1    1       0      1      0\n",
       "2    1       0      0      0\n",
       "3    1       1      0      0"
      ]
     },
     "execution_count": 15,
     "metadata": {},
     "output_type": "execute_result"
    }
   ],
   "source": [
    "gibbs.sample(size=4)"
   ]
  },
  {
   "cell_type": "code",
   "execution_count": null,
   "metadata": {},
   "outputs": [],
   "source": []
  }
 ],
 "metadata": {
  "kernelspec": {
   "display_name": "Python 3.8.13 ('vrrl')",
   "language": "python",
   "name": "python3"
  },
  "language_info": {
   "codemirror_mode": {
    "name": "ipython",
    "version": 3
   },
   "file_extension": ".py",
   "mimetype": "text/x-python",
   "name": "python",
   "nbconvert_exporter": "python",
   "pygments_lexer": "ipython3",
   "version": "3.8.13"
  },
  "orig_nbformat": 4,
  "vscode": {
   "interpreter": {
    "hash": "76fdbddd09d3bad11064401bc03600f9f122308b58fefb7c6c6208e871930f97"
   }
  }
 },
 "nbformat": 4,
 "nbformat_minor": 2
}

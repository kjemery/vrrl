{
 "cells": [
  {
   "cell_type": "markdown",
   "metadata": {},
   "source": [
    "This is the setup for a standard MRF with inference\n",
    "\n",
    "Things to discuss:\n",
    "\n",
    "1. Type of factor: Discrete vs. Continuous \n",
    "2. Type of inference: Variable Elimination vs. Belief Propogation\n",
    "3. How to calculate phi using co-occurrences?"
   ]
  },
  {
   "cell_type": "code",
   "execution_count": 30,
   "metadata": {},
   "outputs": [],
   "source": [
    "import numpy as np\n",
    "import pandas as pd\n",
    "from pgmpy.models import MarkovNetwork\n",
    "from pgmpy.factors.discrete import DiscreteFactor\n",
    "from pgmpy.inference import VariableElimination, BeliefPropagation\n",
    "import daft\n",
    "import random\n",
    "import itertools"
   ]
  },
  {
   "cell_type": "code",
   "execution_count": 21,
   "metadata": {},
   "outputs": [
    {
     "name": "stdout",
     "output_type": "stream",
     "text": [
      "           floor  microwave  trash  towel\n",
      "floor       1.00       0.01    0.7   0.25\n",
      "microwave   0.01       1.00    0.5   0.25\n",
      "trash       0.70       0.50    1.0   0.10\n",
      "towel       0.25       0.25    0.1   1.00\n"
     ]
    }
   ],
   "source": [
    "objects = [\"floor\",\"microwave\",\"trash\",\"towel\"]\n",
    "cooccur = np.array([[1,0.01,0.7,0.25],\n",
    "                    [0.01,1,0.5,0.25],\n",
    "                    [0.7,0.5,1,0.1],\n",
    "                    [0.25,0.25,0.1,1]])\n",
    "\n",
    "cooccur = pd.DataFrame(cooccur,index=objects,columns=objects)\n",
    "print(cooccur)"
   ]
  },
  {
   "cell_type": "code",
   "execution_count": 36,
   "metadata": {},
   "outputs": [],
   "source": [
    "# instantiate network\n",
    "G = MarkovNetwork()\n",
    "\n",
    "# create graph (add nodes and edges)\n",
    "nodes = objects\n",
    "edges = list(itertools.combinations(objects,r=2))\n",
    "\n",
    "G.add_nodes_from(nodes)\n",
    "G.add_edges_from(edges)"
   ]
  },
  {
   "cell_type": "code",
   "execution_count": 46,
   "metadata": {},
   "outputs": [
    {
     "data": {
      "text/plain": [
       "<Axes:>"
      ]
     },
     "execution_count": 46,
     "metadata": {},
     "output_type": "execute_result"
    },
    {
     "data": {
      "image/png": "[encoded data removed]",
      "text/plain": [
       "<Figure size 336.614x271.654 with 1 Axes>"
      ]
     },
     "metadata": {},
     "output_type": "display_data"
    }
   ],
   "source": [
    "# illustrate graph\n",
    "pgm = daft.PGM(aspect=2.1, dpi=150, node_unit=1, grid_unit=3, directed=False, node_ec=None)\n",
    "\n",
    "x = [0, 1, 0, 1]\n",
    "y = [1, 1, 0, 0]\n",
    "\n",
    "for i in range(len(nodes)):\n",
    "    pgm.add_node(nodes[i], nodes[i], x[i], y[i])\n",
    "    \n",
    "for i in range(len(edges)):    \n",
    "    pgm.add_edge(edges[i][0],edges[i][1])\n",
    "    \n",
    "pgm.render()"
   ]
  },
  {
   "cell_type": "code",
   "execution_count": 71,
   "metadata": {},
   "outputs": [],
   "source": [
    "# create factors\n",
    "for edge in G.edges():\n",
    "    phi = cooccur.loc[edge[0],edge[1]]\n",
    "    factor = DiscreteFactor(edge, [2, 2], np.random.rand(4))\n",
    "    G.add_factors(factor)"
   ]
  },
  {
   "cell_type": "code",
   "execution_count": 62,
   "metadata": {},
   "outputs": [
    {
     "data": {
      "application/vnd.jupyter.widget-view+json": {
       "model_id": "45087ee3dc1743eb9c3bcf96a9962c5a",
       "version_major": 2,
       "version_minor": 0
      },
      "text/plain": [
       "0it [00:00, ?it/s]"
      ]
     },
     "metadata": {},
     "output_type": "display_data"
    },
    {
     "name": "stdout",
     "output_type": "stream",
     "text": [
      "+----------+--------------+\n",
      "| trash    |   phi(trash) |\n",
      "+==========+==============+\n",
      "| trash(0) |       0.8981 |\n",
      "+----------+--------------+\n",
      "| trash(1) |       0.1019 |\n",
      "+----------+--------------+\n"
     ]
    }
   ],
   "source": [
    "# inference\n",
    "G_infer = BeliefPropagation(G)\n",
    "G_prob = G_infer.query(variables=['trash'], evidence={'floor': 1, 'microwave': 1, 'towel': 0})\n",
    "print(G_prob)"
   ]
  }
 ],
 "metadata": {
  "kernelspec": {
   "display_name": "Python 3.10.0 64-bit",
   "language": "python",
   "name": "python3"
  },
  "language_info": {
   "codemirror_mode": {
    "name": "ipython",
    "version": 3
   },
   "file_extension": ".py",
   "mimetype": "text/x-python",
   "name": "python",
   "nbconvert_exporter": "python",
   "pygments_lexer": "ipython3",
   "version": "3.10.0"
  },
  "orig_nbformat": 4,
  "vscode": {
   "interpreter": {
    "hash": "485a424ca02950b995bea862ca8bcc4db051ac491d2edaf1c6157cf57f6b665e"
   }
  }
 },
 "nbformat": 4,
 "nbformat_minor": 2
}

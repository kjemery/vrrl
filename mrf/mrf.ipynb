{
 "cells": [
  {
   "cell_type": "markdown",
   "metadata": {},
   "source": [
    "This is the setup for a standard MRF with inference\n",
    "\n",
    "Things to discuss:\n",
    "\n",
    "1. Type of factor: Discrete vs. Continuous \n",
    "2. Type of inference: Variable Elimination vs. Belief Propogation\n",
    "3. How to calculate phi using co-occurrences?"
   ]
  },
  {
   "cell_type": "code",
   "execution_count": 129,
   "metadata": {},
   "outputs": [],
   "source": [
    "import numpy as np\n",
    "import pandas as pd\n",
    "from pgmpy.models import MarkovNetwork\n",
    "from pgmpy.factors.discrete import DiscreteFactor\n",
    "from pgmpy.inference import VariableElimination, BeliefPropagation\n",
    "import daft\n",
    "import random"
   ]
  },
  {
   "cell_type": "code",
   "execution_count": 130,
   "metadata": {},
   "outputs": [],
   "source": [
    "\n",
    "#instantiate network\n",
    "G = MarkovNetwork()\n",
    "\n",
    "#create graph (add nodes and edges)\n",
    "nodes = ['w1', 'w2', 'w3', 'w4']\n",
    "edges = [('w1','w2'),('w1','w3'),('w1','w4'),('w2','w3'),('w2','w4'),('w3','w4')]\n",
    "\n",
    "G.add_nodes_from(nodes)\n",
    "G.add_edges_from(edges)"
   ]
  },
  {
   "cell_type": "code",
   "execution_count": 131,
   "metadata": {},
   "outputs": [
    {
     "data": {
      "text/plain": [
       "<Axes:>"
      ]
     },
     "execution_count": 131,
     "metadata": {},
     "output_type": "execute_result"
    },
    {
     "data": {
      "image/png": "[encoded data removed]",
      "text/plain": [
       "<Figure size 164.409x164.409 with 1 Axes>"
      ]
     },
     "metadata": {},
     "output_type": "display_data"
    }
   ],
   "source": [
    "pgm = daft.PGM(node_unit=1, grid_unit=4, directed=False)\n",
    "\n",
    "x = [0, 1, 0, 1]\n",
    "y = [1, 1, 0, 0]\n",
    "\n",
    "for i in range(len(nodes)):\n",
    "    pgm.add_node(nodes[i], nodes[i], x[i], y[i])\n",
    "    \n",
    "for i in range(len(edges)):    \n",
    "    pgm.add_edge(edges[i][0],edges[i][1])\n",
    "    \n",
    "pgm.render()"
   ]
  },
  {
   "cell_type": "code",
   "execution_count": 132,
   "metadata": {},
   "outputs": [],
   "source": [
    "#create factors\n",
    "phi = [DiscreteFactor(edge, [2, 2], np.random.rand(4)) for edge in G.edges()]\n",
    "G.add_factors(*phi)"
   ]
  },
  {
   "cell_type": "code",
   "execution_count": 135,
   "metadata": {},
   "outputs": [
    {
     "data": {
      "application/vnd.jupyter.widget-view+json": {
       "model_id": "33f58a46870b428083896ebcfae81f94",
       "version_major": 2,
       "version_minor": 0
      },
      "text/plain": [
       "0it [00:00, ?it/s]"
      ]
     },
     "metadata": {},
     "output_type": "display_data"
    },
    {
     "name": "stdout",
     "output_type": "stream",
     "text": [
      "+-------+-----------+\n",
      "| w1    |   phi(w1) |\n",
      "+=======+===========+\n",
      "| w1(0) |    0.3163 |\n",
      "+-------+-----------+\n",
      "| w1(1) |    0.6837 |\n",
      "+-------+-----------+\n"
     ]
    }
   ],
   "source": [
    "#inference\n",
    "G_infer = BeliefPropagation(G)\n",
    "G_prob = G_infer.query(variables=['w1'], evidence={'w2': 0, 'w3': 0, 'w4': 0})\n",
    "print(G_prob)"
   ]
  },
  {
   "cell_type": "markdown",
   "metadata": {},
   "source": [
    "w1 w2\n",
    "0  0 = ?\n",
    "0  1 = ?\n",
    "1  0 = ?\n",
    "1  1 = co-occurrence probability "
   ]
  }
 ],
 "metadata": {
  "kernelspec": {
   "display_name": "Python 3.10.0 64-bit",
   "language": "python",
   "name": "python3"
  },
  "language_info": {
   "codemirror_mode": {
    "name": "ipython",
    "version": 3
   },
   "file_extension": ".py",
   "mimetype": "text/x-python",
   "name": "python",
   "nbconvert_exporter": "python",
   "pygments_lexer": "ipython3",
   "version": "3.10.0"
  },
  "orig_nbformat": 4,
  "vscode": {
   "interpreter": {
    "hash": "485a424ca02950b995bea862ca8bcc4db051ac491d2edaf1c6157cf57f6b665e"
   }
  }
 },
 "nbformat": 4,
 "nbformat_minor": 2
}

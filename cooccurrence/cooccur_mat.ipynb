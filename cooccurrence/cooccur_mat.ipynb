{
 "cells": [
  {
   "cell_type": "code",
   "execution_count": 1,
   "metadata": {},
   "outputs": [],
   "source": [
    "from transformers import pipeline\n",
    "import numpy as np\n",
    "import pandas as pd\n",
    "import gzip\n",
    "import fastparquet\n",
    "import matplotlib.pyplot as plt\n",
    "from transformers import BertTokenizer, BertModel"
   ]
  },
  {
   "cell_type": "code",
   "execution_count": 2,
   "metadata": {},
   "outputs": [],
   "source": [
    "# read conceptnet\n",
    "conceptnet = pd.read_parquet('conceptnet_small.parquet.gzip',columns=['uri','relation','start_node','end_node','info'])\n",
    "\n",
    "# choose room for which to search relations\n",
    "room =  'kitchen'\n",
    "room = '/c/en/' + room\n",
    "node = 'end_node'\n",
    "object_relations = conceptnet[conceptnet[node] == room]\n",
    "\n",
    "# create list of objects typically associated with chosen room type\n",
    "objs = []\n",
    "\n",
    "for i in range(object_relations.shape[0]):\n",
    "    objs.append(object_relations['start_node'].iloc[i][6:])\n",
    "    "
   ]
  },
  {
   "cell_type": "code",
   "execution_count": 3,
   "metadata": {},
   "outputs": [],
   "source": [
    "# object list pre-processing for use with bert\n",
    "\n",
    "# use second word in word pairing\n",
    "objects = []\n",
    "\n",
    "for i in range(len(objs)):\n",
    "    tmp = str(objs[i]).split('_')\n",
    "    objects.append(tmp[len(tmp)-1])\n",
    "    \n",
    "# get objects (see post_objects.xlsx for more preprocessing info)\n",
    "all_objs = pd.read_excel('post_objects.xlsx')\n",
    "landmarks = all_objs['landmark'].iloc[0:14]\n",
    "objects = all_objs['target']"
   ]
  },
  {
   "cell_type": "code",
   "execution_count": 126,
   "metadata": {},
   "outputs": [],
   "source": [
    "# load bert\n",
    "unmasker = pipeline('fill-mask', model = 'bert-base-uncased')\n",
    "\n",
    "# tokenize objects for bert\n",
    "tokenizer = BertTokenizer.from_pretrained(\"bert-base-uncased\")\n",
    "\n",
    "landmark = []\n",
    "\n",
    "for i in range(len(landmarks)):\n",
    "    new = tokenizer.tokenize(landmarks[i])\n",
    "    \n",
    "    if len(new[0]) == len(landmarks[i]):\n",
    "        landmark.append(new[0])\n",
    "        \n",
    "target = []\n",
    "\n",
    "for i in range(len(objects)):\n",
    "    new = tokenizer.tokenize(objects[i])\n",
    "    \n",
    "    if len(new[0]) == len(objects[i]):\n",
    "        target.append(new[0])\n"
   ]
  },
  {
   "cell_type": "code",
   "execution_count": 127,
   "metadata": {},
   "outputs": [],
   "source": [
    "# co-occurrence mat\n",
    "cooccur = np.zeros((len(landmark),len(target)))\n",
    "\n",
    "for i in range(len(landmark)):\n",
    "    for j in range(len(target)):\n",
    "        sentence = 'The [MASK] is on the ' + landmark[i]\n",
    "        result = unmasker(sentence, targets = target[j])\n",
    "        cooccur[i,j] = result[0].get(\"score\")"
   ]
  },
  {
   "cell_type": "code",
   "execution_count": 128,
   "metadata": {},
   "outputs": [
    {
     "data": {
      "text/plain": [
       "<matplotlib.image.AxesImage at 0x25f24b95ca0>"
      ]
     },
     "execution_count": 128,
     "metadata": {},
     "output_type": "execute_result"
    },
    {
     "data": {
      "image/png": "[encoded data removed]",
      "text/plain": [
       "<Figure size 432x288 with 1 Axes>"
      ]
     },
     "metadata": {
      "needs_background": "light"
     },
     "output_type": "display_data"
    }
   ],
   "source": [
    "# visualize cooccurrence matrix\n",
    "plt.imshow(cooccur)"
   ]
  },
  {
   "cell_type": "code",
   "execution_count": 133,
   "metadata": {},
   "outputs": [],
   "source": [
    "# visualize landmark/target object pairs\n",
    "pair = []\n",
    "for i in range(len(target)):\n",
    "    idx = np.flip(np.argsort(cooccur[:,i]))\n",
    "    pair.append(landmark[idx[0]])\n",
    "    \n",
    "temp = pd.DataFrame(target)\n",
    "temp.insert(1,\"landmark\",pair)\n",
    "temp"
   ]
  }
 ],
 "metadata": {
  "kernelspec": {
   "display_name": "Python 3.10.0 64-bit",
   "language": "python",
   "name": "python3"
  },
  "language_info": {
   "codemirror_mode": {
    "name": "ipython",
    "version": 3
   },
   "file_extension": ".py",
   "mimetype": "text/x-python",
   "name": "python",
   "nbconvert_exporter": "python",
   "pygments_lexer": "ipython3",
   "version": "3.10.0"
  },
  "orig_nbformat": 4,
  "vscode": {
   "interpreter": {
    "hash": "485a424ca02950b995bea862ca8bcc4db051ac491d2edaf1c6157cf57f6b665e"
   }
  }
 },
 "nbformat": 4,
 "nbformat_minor": 2
}

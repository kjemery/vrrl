{
 "cells": [
  {
   "cell_type": "markdown",
   "metadata": {},
   "source": [
    "To-do:\n",
    "\n",
    "1. create single symmetrical co-occurrence matrix (with general semantic embeddings)\n",
    "2. determine target/landmark pairings from this matrix \n",
    "3. visualize object clusters\n",
    "4. compare clusters across language models\n",
    "5. design room"
   ]
  },
  {
   "cell_type": "code",
   "execution_count": 1,
   "metadata": {},
   "outputs": [],
   "source": [
    "from transformers import pipeline\n",
    "import numpy as np\n",
    "import pandas as pd\n",
    "import gzip\n",
    "import fastparquet\n",
    "import matplotlib.pyplot as plt\n",
    "import torch\n",
    "import tensorflow as tf\n",
    "from transformers import BertTokenizer, BertModel, TFBertForMaskedLM"
   ]
  },
  {
   "cell_type": "code",
   "execution_count": 2,
   "metadata": {},
   "outputs": [],
   "source": [
    "# read conceptnet\n",
    "conceptnet = pd.read_parquet('conceptnet_small.parquet.gzip',columns=['uri','relation','start_node','end_node','info'])\n",
    "\n",
    "# choose room for which to search relations\n",
    "room =  'kitchen'\n",
    "cn_room = '/c/en/' + room\n",
    "node = 'end_node'\n",
    "object_relations = conceptnet[conceptnet[node] == cn_room]\n",
    "\n",
    "# create list of objects typically associated with chosen room type\n",
    "objs = []\n",
    "\n",
    "for i in range(object_relations.shape[0]):\n",
    "    objs.append(object_relations['start_node'].iloc[i][6:])\n",
    "\n",
    "## object list pre-processing for use with bert (because bert would tokenize phrases into single words and sometimes words into syllables, i chose the following preprocessing steps)\n",
    "\n",
    "# use second word in word pairing\n",
    "objects = []\n",
    "\n",
    "for i in range(len(objs)):\n",
    "    tmp = str(objs[i]).split('_')\n",
    "    objects.append(tmp[len(tmp)-1])\n",
    "    "
   ]
  },
  {
   "cell_type": "code",
   "execution_count": 3,
   "metadata": {},
   "outputs": [],
   "source": [
    "# get objects (see post_objects.xlsx for more preprocessing info)\n",
    "all_objs = pd.read_excel('post_objects.xlsx')\n",
    "landmarks = all_objs['landmark'].iloc[0:6]\n",
    "objects = all_objs['target']"
   ]
  },
  {
   "cell_type": "code",
   "execution_count": 4,
   "metadata": {},
   "outputs": [
    {
     "name": "stderr",
     "output_type": "stream",
     "text": [
      "All model checkpoint layers were used when initializing TFBertForMaskedLM.\n",
      "\n",
      "All the layers of TFBertForMaskedLM were initialized from the model checkpoint at bert-base-uncased.\n",
      "If your task is similar to the task the model of the checkpoint was trained on, you can already use TFBertForMaskedLM for predictions without further training.\n",
      "Some weights of the model checkpoint at bert-base-uncased were not used when initializing BertForMaskedLM: ['cls.seq_relationship.bias', 'cls.seq_relationship.weight']\n",
      "- This IS expected if you are initializing BertForMaskedLM from the checkpoint of a model trained on another task or with another architecture (e.g. initializing a BertForSequenceClassification model from a BertForPreTraining model).\n",
      "- This IS NOT expected if you are initializing BertForMaskedLM from the checkpoint of a model that you expect to be exactly identical (initializing a BertForSequenceClassification model from a BertForSequenceClassification model).\n"
     ]
    }
   ],
   "source": [
    "# load bert\n",
    "mlm = \"bert-base-uncased\"\n",
    "model = TFBertForMaskedLM.from_pretrained(mlm)\n",
    "unmasker = pipeline('fill-mask', model = mlm)\n",
    "\n",
    "# tokenize objects for bert\n",
    "tokenizer = BertTokenizer.from_pretrained(mlm)\n",
    "\n",
    "landmark = []\n",
    "\n",
    "for i in range(len(landmarks)):\n",
    "    new = tokenizer.tokenize(landmarks[i])\n",
    "    \n",
    "    if len(new[0]) == len(landmarks[i]):\n",
    "        landmark.append(new[0])\n",
    "        \n",
    "target = []\n",
    "\n",
    "for i in range(len(objects)):\n",
    "    new = tokenizer.tokenize(objects[i])\n",
    "    \n",
    "    if len(new[0]) == len(objects[i]):\n",
    "        target.append(new[0])\n"
   ]
  },
  {
   "cell_type": "code",
   "execution_count": 5,
   "metadata": {},
   "outputs": [],
   "source": [
    "#find indeces of vocab list for targets and landmarks\n",
    "inputs = tokenizer(landmark, return_tensors=\"np\")\n",
    "idx_landmark = []\n",
    "\n",
    "for i in range(len(landmark)):\n",
    "    idx_landmark.append(inputs.input_ids[i][1])\n",
    "    \n",
    "inputs = tokenizer(target, return_tensors=\"np\")\n",
    "idx_target = []\n",
    "\n",
    "for i in range(len(target)):\n",
    "    idx_target.append(inputs.input_ids[i][1])"
   ]
  },
  {
   "cell_type": "code",
   "execution_count": 6,
   "metadata": {},
   "outputs": [
    {
     "data": {
      "text/plain": [
       "<matplotlib.image.AxesImage at 0x21f52d8ff40>"
      ]
     },
     "execution_count": 6,
     "metadata": {},
     "output_type": "execute_result"
    },
    {
     "data": {
      "image/png": "[encoded data removed]",
      "text/plain": [
       "<Figure size 432x288 with 1 Axes>"
      ]
     },
     "metadata": {
      "needs_background": "light"
     },
     "output_type": "display_data"
    }
   ],
   "source": [
    "#find logits of [MASK] for all vocab words\n",
    "cooccur_landmark = np.zeros((len(landmark),len(target)))\n",
    "\n",
    "for i in range(len(landmark)):\n",
    "    \n",
    "    sentence = 'The [MASK] should be in the ' + room + ' on the ' + landmark[i] +  '.'\n",
    "\n",
    "    inputs = tokenizer(sentence, return_tensors=\"tf\")\n",
    "    logits = model(**inputs).logits\n",
    "\n",
    "    mask_token_index = tf.where((inputs.input_ids == tokenizer.mask_token_id)[0])\n",
    "    selected_logits = tf.gather_nd(logits[0], indices=mask_token_index)\n",
    "\n",
    "    cooccur_landmark[i,:] = selected_logits.numpy()[0,idx_target]\n",
    "\n",
    "for i in range(len(target)):\n",
    "        \n",
    "    cooccur_landmark[:,i] = (tf.nn.softmax(cooccur_landmark[:,i])).numpy()\n",
    "\n",
    "plt.imshow(cooccur_landmark)"
   ]
  },
  {
   "cell_type": "code",
   "execution_count": 7,
   "metadata": {},
   "outputs": [],
   "source": [
    "# visualize landmark/target object pairs\n",
    "best_landmark = []\n",
    "for i in range(len(target)):\n",
    "    idx = np.flip(np.argsort(cooccur_landmark[:,i]))\n",
    "    best_landmark.append(landmark[idx[0]])\n",
    "    \n",
    "pair = pd.DataFrame(target, columns=['target'])\n",
    "pair.insert(1,\"landmark\",best_landmark)"
   ]
  },
  {
   "cell_type": "code",
   "execution_count": 8,
   "metadata": {},
   "outputs": [],
   "source": [
    "#create target/target cooccurrence matrix for each landmark   \n",
    "cooccur_target = {} \n",
    "\n",
    "for i in range(len(landmark)):\n",
    "    \n",
    "    selected_targets = list(pair['target'][pair['landmark']==landmarks[i]])\n",
    "    cooccur = np.zeros((len(selected_targets),len(selected_targets)))\n",
    "    \n",
    "    inputs = tokenizer(target, return_tensors=\"np\")\n",
    "    idx_selected_targets = []\n",
    "\n",
    "    for x in range(len(selected_targets)):\n",
    "        idx_selected_targets.append(inputs.input_ids[x][1])\n",
    "\n",
    "    for j in range(len(selected_targets)):\n",
    "    \n",
    "        sentence = 'The [MASK] should be in the ' + room + ' next to the ' + selected_targets[j] + ' on the ' + landmark[i] + '.'\n",
    "\n",
    "        inputs = tokenizer(sentence, return_tensors=\"tf\")\n",
    "        logits = model(**inputs).logits\n",
    "\n",
    "        mask_token_index = tf.where((inputs.input_ids == tokenizer.mask_token_id)[0])\n",
    "        selected_logits = tf.gather_nd(logits[0], indices=mask_token_index)\n",
    "\n",
    "        cooccur[j,:] = tf.nn.softmax(selected_logits.numpy()[0,idx_selected_targets])\n"
   ]
  },
  {
   "cell_type": "code",
   "execution_count": 9,
   "metadata": {},
   "outputs": [],
   "source": [
    "# landmark/target co-occurrence mat\n",
    "cooccur = np.zeros((len(landmark),len(target)))\n",
    "\n",
    "for i in range(len(landmark)):\n",
    "    for j in range(len(target)):\n",
    "        sentence = 'The [MASK] is on the ' + landmark[i] + ' in the ' + room + '.'\n",
    "        result = unmasker(sentence, targets = target[j])\n",
    "        cooccur[i,j] = result[0].get(\"score\")"
   ]
  },
  {
   "cell_type": "code",
   "execution_count": 10,
   "metadata": {},
   "outputs": [],
   "source": [
    "# target/target co-occurrence mat\n",
    "cooccur = np.zeros((len(landmark),len(target)))\n",
    "\n",
    "for i in range(len(landmark)):\n",
    "    for j in range(len(target)):\n",
    "        sentence = 'The [MASK] is on the ' + landmark[i] + ' in the ' + room + '.'\n",
    "        result = unmasker(sentence, targets = target[j])\n",
    "        cooccur[i,j] = result[0].get(\"score\")\n",
    "sentence = 'The [MASK] is next to the ' + target[0] + ' on the ' + landmark[0] + ' in the ' + room + '.'\n"
   ]
  },
  {
   "cell_type": "code",
   "execution_count": 11,
   "metadata": {},
   "outputs": [
    {
     "name": "stdout",
     "output_type": "stream",
     "text": [
      "[9, 2, 15, 13, 4, 9]\n"
     ]
    }
   ],
   "source": [
    "num_targets = []\n",
    "\n",
    "for i in range(len(landmarks)):\n",
    "    num_targets.append(sum(pair.landmark == landmarks[i]))\n",
    "    \n",
    "print(num_targets)"
   ]
  },
  {
   "cell_type": "code",
   "execution_count": 12,
   "metadata": {},
   "outputs": [
    {
     "data": {
      "text/plain": [
       "11          crab\n",
       "15           fan\n",
       "23    ingredient\n",
       "24          iron\n",
       "25        kettle\n",
       "27         maker\n",
       "33           oil\n",
       "36           pan\n",
       "42           pot\n",
       "Name: target, dtype: object"
      ]
     },
     "execution_count": 12,
     "metadata": {},
     "output_type": "execute_result"
    }
   ],
   "source": [
    "pair['target'][pair['landmark']==landmarks[5]]"
   ]
  },
  {
   "cell_type": "code",
   "execution_count": 13,
   "metadata": {},
   "outputs": [
    {
     "data": {
      "text/plain": [
       "0    counter\n",
       "1      floor\n",
       "2      table\n",
       "3      shelf\n",
       "4       wall\n",
       "5      stove\n",
       "Name: landmark, dtype: object"
      ]
     },
     "execution_count": 13,
     "metadata": {},
     "output_type": "execute_result"
    }
   ],
   "source": [
    "landmarks"
   ]
  },
  {
   "cell_type": "code",
   "execution_count": null,
   "metadata": {},
   "outputs": [],
   "source": []
  }
 ],
 "metadata": {
  "kernelspec": {
   "display_name": "Python 3.8.8 ('base')",
   "language": "python",
   "name": "python3"
  },
  "language_info": {
   "codemirror_mode": {
    "name": "ipython",
    "version": 3
   },
   "file_extension": ".py",
   "mimetype": "text/x-python",
   "name": "python",
   "nbconvert_exporter": "python",
   "pygments_lexer": "ipython3",
   "version": "3.8.8"
  },
  "orig_nbformat": 4,
  "vscode": {
   "interpreter": {
    "hash": "15551a663999590744caa531dd389e739025d6880d4aaffa21e082c6926e2de4"
   }
  }
 },
 "nbformat": 4,
 "nbformat_minor": 2
}

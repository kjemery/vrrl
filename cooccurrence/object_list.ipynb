{
 "cells": [
  {
   "cell_type": "markdown",
   "metadata": {},
   "source": [
    "To-do:\n",
    "\n",
    "1. create single symmetrical co-occurrence matrix (with general semantic embeddings)\n",
    "2. determine target/landmark pairings from this matrix \n",
    "3. visualize object clusters\n",
    "4. compare clusters across language models\n",
    "5. design room"
   ]
  },
  {
   "cell_type": "code",
   "execution_count": 1,
   "metadata": {},
   "outputs": [],
   "source": [
    "import numpy as np\n",
    "import pandas as pd\n",
    "import fastparquet"
   ]
  },
  {
   "cell_type": "code",
   "execution_count": 24,
   "metadata": {},
   "outputs": [],
   "source": [
    "# read conceptnet\n",
    "conceptnet = pd.read_parquet('conceptnet_small.parquet.gzip',columns=['uri','relation','start_node','end_node','info'])\n",
    "\n",
    "# choose room for which to search relations\n",
    "room =  'kitchen'\n",
    "cn_room = '/c/en/' + room\n",
    "node = 'end_node'\n",
    "object_relations = conceptnet[conceptnet[node] == cn_room]\n",
    "\n",
    "# create list of objects typically associated with chosen room type\n",
    "objs = []\n",
    "\n",
    "for i in range(object_relations.shape[0]):\n",
    "    objs.append(object_relations['start_node'].iloc[i])"
   ]
  },
  {
   "cell_type": "code",
   "execution_count": 22,
   "metadata": {},
   "outputs": [],
   "source": [
    "#output objects\n",
    "\n",
    "objs = pd.DataFrame(objs)\n",
    "objs.to_excel(\"pre_objects.xlsx\")"
   ]
  }
 ],
 "metadata": {
  "kernelspec": {
   "display_name": "Python 3.9.12 ('base')",
   "language": "python",
   "name": "python3"
  },
  "language_info": {
   "codemirror_mode": {
    "name": "ipython",
    "version": 3
   },
   "file_extension": ".py",
   "mimetype": "text/x-python",
   "name": "python",
   "nbconvert_exporter": "python",
   "pygments_lexer": "ipython3",
   "version": "3.9.12"
  },
  "orig_nbformat": 4,
  "vscode": {
   "interpreter": {
    "hash": "2714f9b14993ab0e17bafbebc8c2d5d25362cf93e493fb6a60f0ac0c1d2d5236"
   }
  }
 },
 "nbformat": 4,
 "nbformat_minor": 2
}

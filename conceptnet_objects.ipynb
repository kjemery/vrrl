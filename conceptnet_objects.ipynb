{
 "cells": [
  {
   "cell_type": "code",
   "execution_count": 4,
   "metadata": {},
   "outputs": [],
   "source": [
    "#import libraries\n",
    "import numpy as np\n",
    "import pandas as pd\n",
    "import gzip\n",
    "import fastparquet"
   ]
  },
  {
   "cell_type": "code",
   "execution_count": 5,
   "metadata": {},
   "outputs": [
    {
     "name": "stdout",
     "output_type": "stream",
     "text": [
      "['Airplane' 'Allergy Pills' 'Apple' 'Bacon' 'Banana' 'Beans' 'Block 1'\n",
      " 'Block 10' 'Block 2' 'Block 3' 'Block 4' 'Block 5' 'Block 6' 'Block 7'\n",
      " 'Block 8' 'Block 9' 'Book 1' 'Book 10' 'Book 11' 'Book 12' 'Book 2'\n",
      " 'Book 3' 'Book 4' 'Book 5' 'Book 6' 'Book 7' 'Book 8' 'Book 9' 'Bread'\n",
      " 'Candle' 'Candlestick' 'Carrot' 'Clipboard' 'Coconut' 'Coffee' 'Crayon 1'\n",
      " 'Crayon 2' 'Crayon 3' 'Crayon 4' 'Crayon 5' 'Crayon 6' 'Cup' 'Cylinder 1'\n",
      " 'Cylinder 2' 'Cylinder 3' 'Cylinder 4' 'Dodecahedron' 'Donut 1' 'Donut 2'\n",
      " 'Eraser' 'Gold' 'Helmet' 'Juice Box' 'Key' 'Knight' 'Laptop' 'Left Shoe'\n",
      " 'Magazine 1' 'Magazine 2' 'Marker 1' 'Marker 2' 'Marker 3' 'Marker 4'\n",
      " 'Milk Carton 1' 'Milk Carton 2' 'Milk Carton 3' 'Mug' 'Notebook'\n",
      " 'Oil Bottle 1' 'Oil Bottle 2' 'Oil Carafe 1' 'Oil Carafe 2' 'Pad'\n",
      " 'Paint Can' 'Paper' 'Paper Bag' 'Paper Box' 'Pear' 'Pen' 'Pencil 1'\n",
      " 'Pencil 2' 'Phone' 'Picture 1' 'Picture 2' 'Pills' 'Pizza Box'\n",
      " 'Plastic Box 1' 'Plastic Box 2' 'Raw meat' 'Right Shoe' 'Rubber Duck'\n",
      " 'Scissors' 'Smartphone' 'Soccer Ball' 'Soda Can' 'Takeout Box' 'Tea Box'\n",
      " 'Teabag' 'Tomato' 'Towel' 'Train' 'Vase 1' 'Vase 2' 'Vase 3'\n",
      " 'Water Bottle' 'Water Bottle 2' 'Yogurt']\n"
     ]
    }
   ],
   "source": [
    "#read feature space file to get target objects\n",
    "features = pd.read_csv(\"metamdp_feature_space.csv\")\n",
    "targets = np.unique(features['object'])\n",
    "\n",
    "#use all objects but 'Pad'\n",
    "print(targets)"
   ]
  },
  {
   "cell_type": "code",
   "execution_count": 6,
   "metadata": {},
   "outputs": [],
   "source": [
    "#unzip conceptnet dataset (this takes a while!)\n",
    "with gzip.open('conceptnet-assertions-5.7.0.csv.gz') as f:\n",
    "    conceptnet = pd.read_csv(f,sep='\\t',names=['uri','relation','start_node','end_node','info'])"
   ]
  },
  {
   "cell_type": "code",
   "execution_count": 8,
   "metadata": {},
   "outputs": [],
   "source": [
    "#refer to concept net edge types to choose a relation: https://github.com/commonsense/conceptnet5/wiki/Relations\n",
    "relation = '/r/AtLocation'\n",
    "\n",
    "#choose the language of indexed concepts\n",
    "language = '/c/en'\n",
    "\n",
    "#keep only the data associated with chosen relation nad language combo\n",
    "conceptnet_new = conceptnet[conceptnet['relation'] == relation]\n",
    "conceptnet_new = conceptnet_new[conceptnet_new['start_node'].str.contains(language) & conceptnet_new['end_node'].str.contains(language)]\n"
   ]
  },
  {
   "cell_type": "code",
   "execution_count": 21,
   "metadata": {},
   "outputs": [],
   "source": [
    "#choose object for which to search relations\n",
    "object =  'fruit'\n",
    "object = '/c/en/' + object\n",
    "\n",
    "#choose whether the object will be the start or end node relation\n",
    "node = 'start_node'\n",
    "\n",
    "#get relations for specified objects and associated info for each relationship (make more specific to object)\n",
    "object_relations = conceptnet_new[conceptnet_new[node] == object]\n",
    "info = object_relations['info']\n"
   ]
  },
  {
   "cell_type": "code",
   "execution_count": 22,
   "metadata": {},
   "outputs": [
    {
     "data": {
      "text/plain": [
       "array(['1.0', '1.0', '1.0', '1.0', '1.0', '1.0', '4.0', '1.0', '1.0',\n",
       "       '1.0', '1.0', '1.0', '2.0', '1.0', '1.0', '4.0'], dtype='<U3')"
      ]
     },
     "execution_count": 22,
     "metadata": {},
     "output_type": "execute_result"
    }
   ],
   "source": [
    "#extract weight for each relation \n",
    "weights = []\n",
    "\n",
    "for i in range(info.shape[0]):\n",
    "    x = info.iloc[i].split(\":\")\n",
    "    y = x[len(x)-1][1:-1]\n",
    "    weights.append(y)\n",
    "    \n",
    "weights = np.asarray(weights)\n",
    "weights\n"
   ]
  },
  {
   "cell_type": "code",
   "execution_count": 23,
   "metadata": {},
   "outputs": [
    {
     "data": {
      "text/html": [
       "<div>\n",
       "<style scoped>\n",
       "    .dataframe tbody tr th:only-of-type {\n",
       "        vertical-align: middle;\n",
       "    }\n",
       "\n",
       "    .dataframe tbody tr th {\n",
       "        vertical-align: top;\n",
       "    }\n",
       "\n",
       "    .dataframe thead th {\n",
       "        text-align: right;\n",
       "    }\n",
       "</style>\n",
       "<table border=\"1\" class=\"dataframe\">\n",
       "  <thead>\n",
       "    <tr style=\"text-align: right;\">\n",
       "      <th></th>\n",
       "      <th>start_node</th>\n",
       "      <th>end_node</th>\n",
       "    </tr>\n",
       "  </thead>\n",
       "  <tbody>\n",
       "    <tr>\n",
       "      <th>75979</th>\n",
       "      <td>/c/en/fruit</td>\n",
       "      <td>/c/en/tree</td>\n",
       "    </tr>\n",
       "    <tr>\n",
       "      <th>75970</th>\n",
       "      <td>/c/en/fruit</td>\n",
       "      <td>/c/en/market</td>\n",
       "    </tr>\n",
       "    <tr>\n",
       "      <th>75976</th>\n",
       "      <td>/c/en/fruit</td>\n",
       "      <td>/c/en/refridgerator</td>\n",
       "    </tr>\n",
       "    <tr>\n",
       "      <th>75978</th>\n",
       "      <td>/c/en/fruit</td>\n",
       "      <td>/c/en/san_francisco</td>\n",
       "    </tr>\n",
       "    <tr>\n",
       "      <th>75977</th>\n",
       "      <td>/c/en/fruit</td>\n",
       "      <td>/c/en/refrigerator</td>\n",
       "    </tr>\n",
       "    <tr>\n",
       "      <th>75975</th>\n",
       "      <td>/c/en/fruit</td>\n",
       "      <td>/c/en/refriderator</td>\n",
       "    </tr>\n",
       "    <tr>\n",
       "      <th>75974</th>\n",
       "      <td>/c/en/fruit</td>\n",
       "      <td>/c/en/produce_sections</td>\n",
       "    </tr>\n",
       "    <tr>\n",
       "      <th>75973</th>\n",
       "      <td>/c/en/fruit</td>\n",
       "      <td>/c/en/plate</td>\n",
       "    </tr>\n",
       "    <tr>\n",
       "      <th>75972</th>\n",
       "      <td>/c/en/fruit</td>\n",
       "      <td>/c/en/pantry</td>\n",
       "    </tr>\n",
       "    <tr>\n",
       "      <th>75971</th>\n",
       "      <td>/c/en/fruit</td>\n",
       "      <td>/c/en/mouth</td>\n",
       "    </tr>\n",
       "    <tr>\n",
       "      <th>75969</th>\n",
       "      <td>/c/en/fruit</td>\n",
       "      <td>/c/en/jar</td>\n",
       "    </tr>\n",
       "    <tr>\n",
       "      <th>75968</th>\n",
       "      <td>/c/en/fruit</td>\n",
       "      <td>/c/en/gay_bar</td>\n",
       "    </tr>\n",
       "    <tr>\n",
       "      <th>75967</th>\n",
       "      <td>/c/en/fruit</td>\n",
       "      <td>/c/en/fruit_grove</td>\n",
       "    </tr>\n",
       "    <tr>\n",
       "      <th>75966</th>\n",
       "      <td>/c/en/fruit</td>\n",
       "      <td>/c/en/fruit_cocktail</td>\n",
       "    </tr>\n",
       "    <tr>\n",
       "      <th>75965</th>\n",
       "      <td>/c/en/fruit</td>\n",
       "      <td>/c/en/fridge</td>\n",
       "    </tr>\n",
       "    <tr>\n",
       "      <th>75964</th>\n",
       "      <td>/c/en/fruit</td>\n",
       "      <td>/c/en/container</td>\n",
       "    </tr>\n",
       "  </tbody>\n",
       "</table>\n",
       "</div>"
      ],
      "text/plain": [
       "        start_node                end_node\n",
       "75979  /c/en/fruit              /c/en/tree\n",
       "75970  /c/en/fruit            /c/en/market\n",
       "75976  /c/en/fruit     /c/en/refridgerator\n",
       "75978  /c/en/fruit     /c/en/san_francisco\n",
       "75977  /c/en/fruit      /c/en/refrigerator\n",
       "75975  /c/en/fruit      /c/en/refriderator\n",
       "75974  /c/en/fruit  /c/en/produce_sections\n",
       "75973  /c/en/fruit             /c/en/plate\n",
       "75972  /c/en/fruit            /c/en/pantry\n",
       "75971  /c/en/fruit             /c/en/mouth\n",
       "75969  /c/en/fruit               /c/en/jar\n",
       "75968  /c/en/fruit           /c/en/gay_bar\n",
       "75967  /c/en/fruit       /c/en/fruit_grove\n",
       "75966  /c/en/fruit    /c/en/fruit_cocktail\n",
       "75965  /c/en/fruit            /c/en/fridge\n",
       "75964  /c/en/fruit         /c/en/container"
      ]
     },
     "execution_count": 23,
     "metadata": {},
     "output_type": "execute_result"
    }
   ],
   "source": [
    "#sort relations according to weights (from highest to lowest weight)\n",
    "idx = np.asarray(np.flip(np.argsort(weights)))\n",
    "\n",
    "#print start and end nodes in order from strongest to weakest relationship\n",
    "object_relations.iloc[:,-3:-1].iloc[idx]"
   ]
  },
  {
   "cell_type": "code",
   "execution_count": null,
   "metadata": {},
   "outputs": [],
   "source": []
  }
 ],
 "metadata": {
  "interpreter": {
   "hash": "b59ac63ccf2e60efecd27332229a920c96fc89b3b6ab0a4a53da7fed19fd0e81"
  },
  "kernelspec": {
   "display_name": "Python 3.8.8 64-bit ('base': conda)",
   "language": "python",
   "name": "python3"
  },
  "language_info": {
   "codemirror_mode": {
    "name": "ipython",
    "version": 3
   },
   "file_extension": ".py",
   "mimetype": "text/x-python",
   "name": "python",
   "nbconvert_exporter": "python",
   "pygments_lexer": "ipython3",
   "version": "3.8.8"
  },
  "orig_nbformat": 4
 },
 "nbformat": 4,
 "nbformat_minor": 2
}
